{
 "cells": [
  {
   "cell_type": "code",
   "execution_count": 2,
   "metadata": {
    "collapsed": true
   },
   "outputs": [
    {
     "name": "stdout",
     "output_type": "stream",
     "text": [
      "\nModel Report\n Cross Validation roc_auc Scores : [ 0.49682337  0.52918849  0.58445987  0.6137513 ] \n Mean Score and Std. Dev. 0.556055755065, 0.0457326334534 \n"
     ]
    }
   ],
   "source": [
    "# import modules\n",
    "import pandas as pd\n",
    "from xgboost.sklearn import XGBClassifier\n",
    "from sklearn import metrics\n",
    "from sklearn.model_selection import cross_val_score, StratifiedKFold\n",
    "import xgboost as xgb\n",
    "\n",
    "train = pd.read_csv('train_TESS_10day_small.csv', header=0)\n",
    "\n",
    "# retrieve header for features and target\n",
    "target = 'target'\n",
    "predictors = [x for x in train.columns if x not in [target]]\n",
    "\n",
    "# function to fit data and test, takes the model, training and testing data\n",
    "# the feature headers and number of folds for cross validation\n",
    "def modelfit(alg, train, predictors, cv_folds=4):\n",
    "\n",
    "    # StratifiedKFold for imbalanced data\n",
    "    cv = StratifiedKFold(n_splits=cv_folds, shuffle=True)\n",
    "    scores = cross_val_score(alg, train[predictors], train['target'], cv=cv,\n",
    "                             scoring='roc_auc')\n",
    "\n",
    "    # Print model report:\n",
    "    print \"\\nModel Report\"\n",
    "    print \" Cross Validation roc_auc Scores : {0} \".format(scores)\n",
    "    print \" Mean Score and Std. Dev. {0}, {1} \". format(scores.mean(), scores.std())\n",
    "\n",
    "# initialize model and call fitting function\n",
    "xgb1 = XGBClassifier(objective='binary:logistic')\n",
    "\n",
    "modelfit(xgb1, train, predictors)"
   ]
  },
  {
   "cell_type": "code",
   "execution_count": null,
   "metadata": {},
   "outputs": [],
   "source": [
    ""
   ]
  }
 ],
 "metadata": {
  "kernelspec": {
   "display_name": "Python 2",
   "language": "python",
   "name": "python2"
  },
  "language_info": {
   "codemirror_mode": {
    "name": "ipython",
    "version": 2.0
   },
   "file_extension": ".py",
   "mimetype": "text/x-python",
   "name": "python",
   "nbconvert_exporter": "python",
   "pygments_lexer": "ipython2",
   "version": "2.7.6"
  }
 },
 "nbformat": 4,
 "nbformat_minor": 0
}