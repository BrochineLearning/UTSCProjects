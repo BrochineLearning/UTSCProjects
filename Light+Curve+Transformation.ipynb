{
 "cells": [
  {
   "cell_type": "markdown",
   "metadata": {},
   "source": [
    "# Building Features from Light Curve Transformations using TSFRESH\n",
    "\n",
    "The module TSFRESH can take multiple series of the same \"type\" the type here being a series of light curves. \n",
    "\n",
    "By creating multiple transformations of the dataset, and extracting only the strongest features from each we should be able to get a strong set of features. \n",
    "\n",
    "The following common time series transformations will be applied to both the TESSfield_05h_01d dataset and its equivalent phase fold:\n",
    "- Forward Derivative\n",
    "- Log(Forward Derivative)\n",
    "- Log(data) \n",
    "- x/(Std.Dev(column)) \n"
   ]
  },
  {
   "cell_type": "code",
   "execution_count": 6,
   "metadata": {
    "collapsed": false
   },
   "outputs": [
    {
     "name": "stderr",
     "output_type": "stream",
     "text": [
      "/home/tom/anaconda3/envs/py27/lib/python2.7/site-packages/sklearn/cross_validation.py:44: DeprecationWarning: This module was deprecated in version 0.18 in favor of the model_selection module into which all the refactored classes and functions are moved. Also note that the interface of the new CV iterators are different from that of this module. This module will be removed in 0.20.\n",
      "  \"This module will be removed in 0.20.\", DeprecationWarning)\n"
     ]
    }
   ],
   "source": [
    "# import the modules \n",
    "import pandas as pd\n",
    "import numpy as np\n",
    "import tsfresh\n",
    "from tsfresh import extract_relevant_features\n",
    "from xgboost.sklearn import XGBClassifier\n",
    "from sklearn import metrics\n",
    "from sklearn.model_selection import cross_val_predict\n",
    "from tsfresh import extract_features, extract_relevant_features, select_features\n",
    "from tsfresh.utilities.dataframe_functions import impute\n",
    "from tsfresh.feature_extraction import FeatureExtractionSettings\n",
    "\n",
    "\n",
    "# open the main LC file that we will apply the transformations to\n",
    "\n",
    "data = np.load(\"TESSfield_05h_01d.npy\")\n",
    "data_raw = np.delete(data, (0), axis=0)\n",
    "df_raw = pd.DataFrame(data_raw)\n",
    "\n",
    "# open Chelsea's combined feature file\n",
    "# remove the last row to make the dimensions match with the raw LC file\n",
    "data_combined_features = pd.read_csv(\"TESSfield_05h_01d_combinedfeatures.csv\", header=0, index_col = 0)\n",
    "data_combined_features = data_combined_features.drop(data_combined_features.index[-1])\n",
    "\n",
    "# drop the columns that aren't features\n",
    "X = data_combined_features.drop(['Ids', 'CatalogY', 'ManuleY', 'CombinedY',\n",
    "                                 'Catalog_Period', 'Depth', 'Catalog_Epoch', 'SNR'],\n",
    "                                axis=1)\n",
    "\n",
    "data_phase = np.load(\"TESSfield_05h_01d_phasefold.npy\")\n",
    "data_phase_df = pd.DataFrame(data_phase)\n",
    "\n",
    "# get the target values \n",
    "# In order to get the index of Y to match with X \n",
    "# we need to add one to the values \n",
    "y = pd.Series()\n",
    "y = data_combined_features['CombinedY']\n",
    "y.index = y.index + 1"
   ]
  },
  {
   "cell_type": "markdown",
   "metadata": {},
   "source": [
    "The first transformation will be the forward derivative transformation:"
   ]
  },
  {
   "cell_type": "code",
   "execution_count": 7,
   "metadata": {
    "collapsed": false
   },
   "outputs": [],
   "source": [
    "transpose = df_raw.T\n",
    "transpose_phase = data_phase_df.T\n",
    "\n",
    "derivative_df = pd.DataFrame()\n",
    "derivative_df_phase = pd.DataFrame()\n",
    "\n",
    "for i, columns in enumerate(transpose.columns):\n",
    "    derivative_df[columns] = transpose[columns] - transpose[columns].shift(1)\n",
    "\n",
    "for i, columns in enumerate(transpose_phase.columns):\n",
    "        derivative_df_phase[columns] = transpose_phase[columns] - transpose_phase[columns].shift(1)\n",
    "\n",
    "\n",
    "derivative_df = derivative_df.T\n",
    "derivative_df_phase = derivative_df_phase.T"
   ]
  },
  {
   "cell_type": "markdown",
   "metadata": {
    "collapsed": true
   },
   "source": [
    "Next we'll do the logaritmic transformation, applying it to both the raw data and the derivative"
   ]
  },
  {
   "cell_type": "code",
   "execution_count": 8,
   "metadata": {
    "collapsed": false
   },
   "outputs": [],
   "source": [
    "log_raw_data = df_raw.apply(np.log)\n",
    "log_difference = derivative_df.apply(np.log)\n",
    "\n",
    "log_phase = data_phase_df.apply(np.log)\n",
    "log_difference_phase = derivative_df_phase.apply(np.log)"
   ]
  },
  {
   "cell_type": "markdown",
   "metadata": {},
   "source": [
    "The following is also another common transformation to apply; \n",
    "dividing the column values by the standard deviation of the column."
   ]
  },
  {
   "cell_type": "code",
   "execution_count": 9,
   "metadata": {
    "collapsed": false
   },
   "outputs": [],
   "source": [
    "df_std_dev = (df_raw/df_raw.std(axis=0))\n",
    "df_std_dev_phase = (data_phase_df/data_phase_df.std(axis=0))\n",
    "\n",
    "\n",
    "# to confirm it worked uncomment below \n",
    "\n",
    "# print raw_data_frame[0][0]\n",
    "\n",
    "# print 6.68758/raw_data_frame.std(axis=0)[0]\n",
    "\n",
    "# print df_std_dev[0][0]"
   ]
  },
  {
   "cell_type": "markdown",
   "metadata": {},
   "source": [
    "Now we'll apply the nessessary alterations to the data sets so that they can work with TSFRESH.  "
   ]
  },
  {
   "cell_type": "code",
   "execution_count": 11,
   "metadata": {
    "collapsed": false
   },
   "outputs": [],
   "source": [
    "Ids = data_combined_features['Ids']\n",
    "\n",
    "df_raw['Ids'] = Ids\n",
    "df_std_dev['Ids'] = Ids\n",
    "log_raw_data['Ids'] = Ids\n",
    "log_difference['Ids'] = Ids\n",
    "derivative_df['Ids'] = Ids\n",
    "\n",
    "data_phase_df['Ids'] = Ids\n",
    "df_std_dev_phase['Ids'] = Ids\n",
    "log_phase['Ids'] = Ids\n",
    "log_difference_phase['Ids'] = Ids\n",
    "derivative_df_phase['Ids'] = Ids\n",
    "\n",
    "\n",
    "\n",
    "# the following initiates a column based time series \n",
    "\n",
    "def df_transformation(df_raw, df_phase=False):\n",
    "    # the following initiates a column based time series \n",
    "    for i, j in enumerate(df_raw['Ids']):\n",
    "        if i == 0:\n",
    "            temp = [[j]]*(len(df_raw.columns) - 1)\n",
    "        else:\n",
    "            temp += [[j]]*(len(df_raw.columns) - 1)\n",
    "    \n",
    "    # we initiate the dataframe of the ID values we just created\n",
    "    df_raw_transpose = pd.DataFrame(temp, columns=['Ids'])\n",
    "    \n",
    "    # the time series data now needs to be transposed to progress down the column\n",
    "    # so we retrieve each value in a linear list instead of an array\n",
    "    if df_phase == True:\n",
    "        vals = []\n",
    "        for rows in data_phase:\n",
    "            for values in rows:\n",
    "                vals.append(values)\n",
    "        \n",
    "        df_raw_transpose['x'] = vals\n",
    "        time = range(0, 100)*len(data_phase)\n",
    "        df_raw_transpose['time'] = time\n",
    "        \n",
    "        return df_raw_transpose\n",
    "    else:\n",
    "        vals = []\n",
    "        for rows in data_raw:\n",
    "            for values in rows:\n",
    "                vals.append(values)\n",
    "                \n",
    "        df_raw_transpose['x'] = vals\n",
    "        time = range(0, 480)*len(data_raw)\n",
    "        df_raw_transpose['time'] = time\n",
    "        \n",
    "        return df_raw_transpose"
   ]
  },
  {
   "cell_type": "code",
   "execution_count": 14,
   "metadata": {
    "collapsed": false
   },
   "outputs": [],
   "source": [
    "# calling the transformation function on all the data\n",
    "\n",
    "df_raw_T = df_transformation(df_raw)\n",
    "df_std_dev_T = df_transformation(df_std_dev)\n",
    "log_data_frame_T = df_transformation(log_raw_data)\n",
    "log_difference_frame_T = df_transformation(log_difference)\n",
    "derivative_df_T = df_transformation(derivative_df)\n",
    "\n",
    "data_phase_df_T = df_transformation(data_phase_df, df_phase=True).dropna()\n",
    "df_std_dev_phase_T = df_transformation(df_std_dev_phase, df_phase=True).dropna()\n",
    "log_phase_T = df_transformation(log_phase, df_phase=True).dropna()\n",
    "log_difference_phase_T = df_transformation(log_difference_phase, df_phase=True).dropna()\n",
    "derivative_df_phase_T = df_transformation(derivative_df_phase, df_phase=True).dropna()"
   ]
  },
  {
   "cell_type": "markdown",
   "metadata": {},
   "source": [
    "Note that feature extraction in the next step takes a handful of hours. "
   ]
  },
  {
   "cell_type": "code",
   "execution_count": 15,
   "metadata": {
    "collapsed": false,
    "scrolled": true
   },
   "outputs": [
    {
     "name": "stderr",
     "output_type": "stream",
     "text": [
      "/home/tom/anaconda3/envs/py27/lib/python2.7/site-packages/pandas/computation/expressions.py:182: UserWarning: evaluating in Python space because the '*' operator is not supported by numexpr for the bool dtype, use '&' instead\n",
      "  unsupported[op_str]))\n",
      "/home/tom/anaconda3/envs/py27/lib/python2.7/site-packages/scipy/signal/spectral.py:772: UserWarning: nperseg = 256, is greater than input length = 71, using nperseg = 71\n",
      "  'using nperseg = {1:d}'.format(nperseg, x.shape[-1]))\n",
      "/home/tom/anaconda3/envs/py27/lib/python2.7/site-packages/scipy/signal/spectral.py:772: UserWarning: nperseg = 256, is greater than input length = 100, using nperseg = 100\n",
      "  'using nperseg = {1:d}'.format(nperseg, x.shape[-1]))\n",
      "/home/tom/anaconda3/envs/py27/lib/python2.7/site-packages/scipy/signal/spectral.py:772: UserWarning: nperseg = 256, is greater than input length = 95, using nperseg = 95\n",
      "  'using nperseg = {1:d}'.format(nperseg, x.shape[-1]))\n",
      "/home/tom/anaconda3/envs/py27/lib/python2.7/site-packages/scipy/signal/spectral.py:772: UserWarning: nperseg = 256, is greater than input length = 97, using nperseg = 97\n",
      "  'using nperseg = {1:d}'.format(nperseg, x.shape[-1]))\n",
      "/home/tom/anaconda3/envs/py27/lib/python2.7/site-packages/scipy/signal/spectral.py:772: UserWarning: nperseg = 256, is greater than input length = 92, using nperseg = 92\n",
      "  'using nperseg = {1:d}'.format(nperseg, x.shape[-1]))\n",
      "/home/tom/anaconda3/envs/py27/lib/python2.7/site-packages/scipy/signal/spectral.py:772: UserWarning: nperseg = 256, is greater than input length = 63, using nperseg = 63\n",
      "  'using nperseg = {1:d}'.format(nperseg, x.shape[-1]))\n",
      "/home/tom/anaconda3/envs/py27/lib/python2.7/site-packages/scipy/signal/spectral.py:772: UserWarning: nperseg = 256, is greater than input length = 86, using nperseg = 86\n",
      "  'using nperseg = {1:d}'.format(nperseg, x.shape[-1]))\n",
      "/home/tom/anaconda3/envs/py27/lib/python2.7/site-packages/scipy/signal/spectral.py:772: UserWarning: nperseg = 256, is greater than input length = 56, using nperseg = 56\n",
      "  'using nperseg = {1:d}'.format(nperseg, x.shape[-1]))\n",
      "/home/tom/anaconda3/envs/py27/lib/python2.7/site-packages/scipy/signal/spectral.py:772: UserWarning: nperseg = 256, is greater than input length = 61, using nperseg = 61\n",
      "  'using nperseg = {1:d}'.format(nperseg, x.shape[-1]))\n",
      "/home/tom/anaconda3/envs/py27/lib/python2.7/site-packages/scipy/signal/spectral.py:772: UserWarning: nperseg = 256, is greater than input length = 89, using nperseg = 89\n",
      "  'using nperseg = {1:d}'.format(nperseg, x.shape[-1]))\n",
      "/home/tom/anaconda3/envs/py27/lib/python2.7/site-packages/scipy/signal/spectral.py:772: UserWarning: nperseg = 256, is greater than input length = 83, using nperseg = 83\n",
      "  'using nperseg = {1:d}'.format(nperseg, x.shape[-1]))\n",
      "/home/tom/anaconda3/envs/py27/lib/python2.7/site-packages/scipy/signal/spectral.py:772: UserWarning: nperseg = 256, is greater than input length = 98, using nperseg = 98\n",
      "  'using nperseg = {1:d}'.format(nperseg, x.shape[-1]))\n",
      "/home/tom/anaconda3/envs/py27/lib/python2.7/site-packages/scipy/signal/spectral.py:772: UserWarning: nperseg = 256, is greater than input length = 74, using nperseg = 74\n",
      "  'using nperseg = {1:d}'.format(nperseg, x.shape[-1]))\n",
      "/home/tom/anaconda3/envs/py27/lib/python2.7/site-packages/scipy/signal/spectral.py:772: UserWarning: nperseg = 256, is greater than input length = 79, using nperseg = 79\n",
      "  'using nperseg = {1:d}'.format(nperseg, x.shape[-1]))\n",
      "/home/tom/anaconda3/envs/py27/lib/python2.7/site-packages/scipy/signal/spectral.py:772: UserWarning: nperseg = 256, is greater than input length = 64, using nperseg = 64\n",
      "  'using nperseg = {1:d}'.format(nperseg, x.shape[-1]))\n",
      "/home/tom/anaconda3/envs/py27/lib/python2.7/site-packages/scipy/signal/spectral.py:772: UserWarning: nperseg = 256, is greater than input length = 91, using nperseg = 91\n",
      "  'using nperseg = {1:d}'.format(nperseg, x.shape[-1]))\n",
      "/home/tom/anaconda3/envs/py27/lib/python2.7/site-packages/scipy/signal/spectral.py:772: UserWarning: nperseg = 256, is greater than input length = 96, using nperseg = 96\n",
      "  'using nperseg = {1:d}'.format(nperseg, x.shape[-1]))\n",
      "/home/tom/anaconda3/envs/py27/lib/python2.7/site-packages/scipy/signal/spectral.py:772: UserWarning: nperseg = 256, is greater than input length = 94, using nperseg = 94\n",
      "  'using nperseg = {1:d}'.format(nperseg, x.shape[-1]))\n",
      "/home/tom/anaconda3/envs/py27/lib/python2.7/site-packages/scipy/signal/spectral.py:772: UserWarning: nperseg = 256, is greater than input length = 81, using nperseg = 81\n",
      "  'using nperseg = {1:d}'.format(nperseg, x.shape[-1]))\n",
      "/home/tom/anaconda3/envs/py27/lib/python2.7/site-packages/scipy/signal/spectral.py:772: UserWarning: nperseg = 256, is greater than input length = 75, using nperseg = 75\n",
      "  'using nperseg = {1:d}'.format(nperseg, x.shape[-1]))\n",
      "/home/tom/anaconda3/envs/py27/lib/python2.7/site-packages/scipy/signal/spectral.py:772: UserWarning: nperseg = 256, is greater than input length = 41, using nperseg = 41\n",
      "  'using nperseg = {1:d}'.format(nperseg, x.shape[-1]))\n",
      "/home/tom/anaconda3/envs/py27/lib/python2.7/site-packages/scipy/signal/spectral.py:772: UserWarning: nperseg = 256, is greater than input length = 50, using nperseg = 50\n",
      "  'using nperseg = {1:d}'.format(nperseg, x.shape[-1]))\n",
      "/home/tom/anaconda3/envs/py27/lib/python2.7/site-packages/scipy/signal/spectral.py:772: UserWarning: nperseg = 256, is greater than input length = 90, using nperseg = 90\n",
      "  'using nperseg = {1:d}'.format(nperseg, x.shape[-1]))\n",
      "/home/tom/anaconda3/envs/py27/lib/python2.7/site-packages/scipy/signal/spectral.py:772: UserWarning: nperseg = 256, is greater than input length = 99, using nperseg = 99\n",
      "  'using nperseg = {1:d}'.format(nperseg, x.shape[-1]))\n",
      "/home/tom/anaconda3/envs/py27/lib/python2.7/site-packages/scipy/signal/spectral.py:772: UserWarning: nperseg = 256, is greater than input length = 70, using nperseg = 70\n",
      "  'using nperseg = {1:d}'.format(nperseg, x.shape[-1]))\n",
      "/home/tom/anaconda3/envs/py27/lib/python2.7/site-packages/scipy/signal/spectral.py:772: UserWarning: nperseg = 256, is greater than input length = 82, using nperseg = 82\n",
      "  'using nperseg = {1:d}'.format(nperseg, x.shape[-1]))\n",
      "/home/tom/anaconda3/envs/py27/lib/python2.7/site-packages/scipy/signal/spectral.py:772: UserWarning: nperseg = 256, is greater than input length = 52, using nperseg = 52\n",
      "  'using nperseg = {1:d}'.format(nperseg, x.shape[-1]))\n",
      "/home/tom/anaconda3/envs/py27/lib/python2.7/site-packages/scipy/signal/spectral.py:772: UserWarning: nperseg = 256, is greater than input length = 51, using nperseg = 51\n",
      "  'using nperseg = {1:d}'.format(nperseg, x.shape[-1]))\n",
      "/home/tom/anaconda3/envs/py27/lib/python2.7/site-packages/scipy/signal/spectral.py:772: UserWarning: nperseg = 256, is greater than input length = 84, using nperseg = 84\n",
      "  'using nperseg = {1:d}'.format(nperseg, x.shape[-1]))\n",
      "/home/tom/anaconda3/envs/py27/lib/python2.7/site-packages/scipy/signal/spectral.py:772: UserWarning: nperseg = 256, is greater than input length = 47, using nperseg = 47\n",
      "  'using nperseg = {1:d}'.format(nperseg, x.shape[-1]))\n",
      "/home/tom/anaconda3/envs/py27/lib/python2.7/site-packages/scipy/signal/spectral.py:772: UserWarning: nperseg = 256, is greater than input length = 88, using nperseg = 88\n",
      "  'using nperseg = {1:d}'.format(nperseg, x.shape[-1]))\n",
      "/home/tom/anaconda3/envs/py27/lib/python2.7/site-packages/scipy/signal/spectral.py:772: UserWarning: nperseg = 256, is greater than input length = 65, using nperseg = 65\n",
      "  'using nperseg = {1:d}'.format(nperseg, x.shape[-1]))\n",
      "/home/tom/anaconda3/envs/py27/lib/python2.7/site-packages/scipy/signal/spectral.py:772: UserWarning: nperseg = 256, is greater than input length = 73, using nperseg = 73\n",
      "  'using nperseg = {1:d}'.format(nperseg, x.shape[-1]))\n",
      "/home/tom/anaconda3/envs/py27/lib/python2.7/site-packages/scipy/signal/spectral.py:772: UserWarning: nperseg = 256, is greater than input length = 59, using nperseg = 59\n",
      "  'using nperseg = {1:d}'.format(nperseg, x.shape[-1]))\n",
      "/home/tom/anaconda3/envs/py27/lib/python2.7/site-packages/scipy/signal/spectral.py:772: UserWarning: nperseg = 256, is greater than input length = 78, using nperseg = 78\n",
      "  'using nperseg = {1:d}'.format(nperseg, x.shape[-1]))\n",
      "/home/tom/anaconda3/envs/py27/lib/python2.7/site-packages/scipy/signal/spectral.py:772: UserWarning: nperseg = 256, is greater than input length = 68, using nperseg = 68\n",
      "  'using nperseg = {1:d}'.format(nperseg, x.shape[-1]))\n",
      "/home/tom/anaconda3/envs/py27/lib/python2.7/site-packages/scipy/signal/spectral.py:772: UserWarning: nperseg = 256, is greater than input length = 58, using nperseg = 58\n",
      "  'using nperseg = {1:d}'.format(nperseg, x.shape[-1]))\n",
      "/home/tom/anaconda3/envs/py27/lib/python2.7/site-packages/scipy/signal/spectral.py:772: UserWarning: nperseg = 256, is greater than input length = 48, using nperseg = 48\n",
      "  'using nperseg = {1:d}'.format(nperseg, x.shape[-1]))\n",
      "/home/tom/anaconda3/envs/py27/lib/python2.7/site-packages/scipy/signal/spectral.py:772: UserWarning: nperseg = 256, is greater than input length = 93, using nperseg = 93\n",
      "  'using nperseg = {1:d}'.format(nperseg, x.shape[-1]))\n",
      "/home/tom/anaconda3/envs/py27/lib/python2.7/site-packages/scipy/signal/spectral.py:772: UserWarning: nperseg = 256, is greater than input length = 87, using nperseg = 87\n",
      "  'using nperseg = {1:d}'.format(nperseg, x.shape[-1]))\n",
      "/home/tom/anaconda3/envs/py27/lib/python2.7/site-packages/scipy/signal/spectral.py:772: UserWarning: nperseg = 256, is greater than input length = 76, using nperseg = 76\n",
      "  'using nperseg = {1:d}'.format(nperseg, x.shape[-1]))\n",
      "/home/tom/anaconda3/envs/py27/lib/python2.7/site-packages/scipy/signal/spectral.py:772: UserWarning: nperseg = 256, is greater than input length = 72, using nperseg = 72\n",
      "  'using nperseg = {1:d}'.format(nperseg, x.shape[-1]))\n",
      "/home/tom/anaconda3/envs/py27/lib/python2.7/site-packages/scipy/signal/spectral.py:772: UserWarning: nperseg = 256, is greater than input length = 54, using nperseg = 54\n",
      "  'using nperseg = {1:d}'.format(nperseg, x.shape[-1]))\n",
      "/home/tom/anaconda3/envs/py27/lib/python2.7/site-packages/scipy/signal/spectral.py:772: UserWarning: nperseg = 256, is greater than input length = 67, using nperseg = 67\n",
      "  'using nperseg = {1:d}'.format(nperseg, x.shape[-1]))\n",
      "/home/tom/anaconda3/envs/py27/lib/python2.7/site-packages/scipy/signal/spectral.py:772: UserWarning: nperseg = 256, is greater than input length = 60, using nperseg = 60\n",
      "  'using nperseg = {1:d}'.format(nperseg, x.shape[-1]))\n",
      "/home/tom/anaconda3/envs/py27/lib/python2.7/site-packages/scipy/signal/spectral.py:772: UserWarning: nperseg = 256, is greater than input length = 66, using nperseg = 66\n",
      "  'using nperseg = {1:d}'.format(nperseg, x.shape[-1]))\n",
      "/home/tom/anaconda3/envs/py27/lib/python2.7/site-packages/scipy/signal/spectral.py:772: UserWarning: nperseg = 256, is greater than input length = 80, using nperseg = 80\n",
      "  'using nperseg = {1:d}'.format(nperseg, x.shape[-1]))\n",
      "/home/tom/anaconda3/envs/py27/lib/python2.7/site-packages/scipy/signal/spectral.py:772: UserWarning: nperseg = 256, is greater than input length = 85, using nperseg = 85\n",
      "  'using nperseg = {1:d}'.format(nperseg, x.shape[-1]))\n",
      "/home/tom/anaconda3/envs/py27/lib/python2.7/site-packages/scipy/signal/spectral.py:772: UserWarning: nperseg = 256, is greater than input length = 39, using nperseg = 39\n",
      "  'using nperseg = {1:d}'.format(nperseg, x.shape[-1]))\n",
      "/home/tom/anaconda3/envs/py27/lib/python2.7/site-packages/scipy/signal/spectral.py:772: UserWarning: nperseg = 256, is greater than input length = 46, using nperseg = 46\n",
      "  'using nperseg = {1:d}'.format(nperseg, x.shape[-1]))\n",
      "/home/tom/anaconda3/envs/py27/lib/python2.7/site-packages/scipy/signal/spectral.py:772: UserWarning: nperseg = 256, is greater than input length = 38, using nperseg = 38\n",
      "  'using nperseg = {1:d}'.format(nperseg, x.shape[-1]))\n",
      "/home/tom/anaconda3/envs/py27/lib/python2.7/site-packages/scipy/signal/spectral.py:772: UserWarning: nperseg = 256, is greater than input length = 77, using nperseg = 77\n",
      "  'using nperseg = {1:d}'.format(nperseg, x.shape[-1]))\n",
      "/home/tom/anaconda3/envs/py27/lib/python2.7/site-packages/scipy/signal/spectral.py:772: UserWarning: nperseg = 256, is greater than input length = 62, using nperseg = 62\n",
      "  'using nperseg = {1:d}'.format(nperseg, x.shape[-1]))\n",
      "/home/tom/anaconda3/envs/py27/lib/python2.7/site-packages/scipy/signal/spectral.py:772: UserWarning: nperseg = 256, is greater than input length = 45, using nperseg = 45\n",
      "  'using nperseg = {1:d}'.format(nperseg, x.shape[-1]))\n",
      "/home/tom/anaconda3/envs/py27/lib/python2.7/site-packages/scipy/signal/spectral.py:772: UserWarning: nperseg = 256, is greater than input length = 44, using nperseg = 44\n",
      "  'using nperseg = {1:d}'.format(nperseg, x.shape[-1]))\n",
      "/home/tom/anaconda3/envs/py27/lib/python2.7/site-packages/scipy/signal/spectral.py:772: UserWarning: nperseg = 256, is greater than input length = 49, using nperseg = 49\n",
      "  'using nperseg = {1:d}'.format(nperseg, x.shape[-1]))\n",
      "/home/tom/anaconda3/envs/py27/lib/python2.7/site-packages/scipy/signal/spectral.py:772: UserWarning: nperseg = 256, is greater than input length = 30, using nperseg = 30\n",
      "  'using nperseg = {1:d}'.format(nperseg, x.shape[-1]))\n",
      "/home/tom/anaconda3/envs/py27/lib/python2.7/site-packages/scipy/signal/spectral.py:772: UserWarning: nperseg = 256, is greater than input length = 37, using nperseg = 37\n",
      "  'using nperseg = {1:d}'.format(nperseg, x.shape[-1]))\n",
      "/home/tom/anaconda3/envs/py27/lib/python2.7/site-packages/scipy/signal/spectral.py:772: UserWarning: nperseg = 256, is greater than input length = 33, using nperseg = 33\n",
      "  'using nperseg = {1:d}'.format(nperseg, x.shape[-1]))\n",
      "/home/tom/anaconda3/envs/py27/lib/python2.7/site-packages/scipy/signal/spectral.py:772: UserWarning: nperseg = 256, is greater than input length = 42, using nperseg = 42\n",
      "  'using nperseg = {1:d}'.format(nperseg, x.shape[-1]))\n",
      "/home/tom/anaconda3/envs/py27/lib/python2.7/site-packages/scipy/signal/spectral.py:772: UserWarning: nperseg = 256, is greater than input length = 34, using nperseg = 34\n",
      "  'using nperseg = {1:d}'.format(nperseg, x.shape[-1]))\n",
      "/home/tom/anaconda3/envs/py27/lib/python2.7/site-packages/scipy/signal/spectral.py:772: UserWarning: nperseg = 256, is greater than input length = 55, using nperseg = 55\n",
      "  'using nperseg = {1:d}'.format(nperseg, x.shape[-1]))\n",
      "/home/tom/anaconda3/envs/py27/lib/python2.7/site-packages/scipy/signal/spectral.py:772: UserWarning: nperseg = 256, is greater than input length = 57, using nperseg = 57\n",
      "  'using nperseg = {1:d}'.format(nperseg, x.shape[-1]))\n",
      "/home/tom/anaconda3/envs/py27/lib/python2.7/site-packages/scipy/signal/spectral.py:772: UserWarning: nperseg = 256, is greater than input length = 69, using nperseg = 69\n",
      "  'using nperseg = {1:d}'.format(nperseg, x.shape[-1]))\n",
      "/home/tom/anaconda3/envs/py27/lib/python2.7/site-packages/scipy/signal/spectral.py:772: UserWarning: nperseg = 256, is greater than input length = 32, using nperseg = 32\n",
      "  'using nperseg = {1:d}'.format(nperseg, x.shape[-1]))\n",
      "/home/tom/anaconda3/envs/py27/lib/python2.7/site-packages/scipy/signal/spectral.py:772: UserWarning: nperseg = 256, is greater than input length = 40, using nperseg = 40\n",
      "  'using nperseg = {1:d}'.format(nperseg, x.shape[-1]))\n",
      "/home/tom/anaconda3/envs/py27/lib/python2.7/site-packages/scipy/signal/spectral.py:772: UserWarning: nperseg = 256, is greater than input length = 29, using nperseg = 29\n",
      "  'using nperseg = {1:d}'.format(nperseg, x.shape[-1]))\n",
      "/home/tom/anaconda3/envs/py27/lib/python2.7/site-packages/scipy/signal/spectral.py:772: UserWarning: nperseg = 256, is greater than input length = 43, using nperseg = 43\n",
      "  'using nperseg = {1:d}'.format(nperseg, x.shape[-1]))\n",
      "/home/tom/anaconda3/envs/py27/lib/python2.7/site-packages/scipy/signal/spectral.py:772: UserWarning: nperseg = 256, is greater than input length = 35, using nperseg = 35\n",
      "  'using nperseg = {1:d}'.format(nperseg, x.shape[-1]))\n",
      "/home/tom/anaconda3/envs/py27/lib/python2.7/site-packages/scipy/signal/spectral.py:772: UserWarning: nperseg = 256, is greater than input length = 53, using nperseg = 53\n",
      "  'using nperseg = {1:d}'.format(nperseg, x.shape[-1]))\n",
      "/home/tom/anaconda3/envs/py27/lib/python2.7/site-packages/scipy/signal/spectral.py:772: UserWarning: nperseg = 256, is greater than input length = 36, using nperseg = 36\n",
      "  'using nperseg = {1:d}'.format(nperseg, x.shape[-1]))\n",
      "No handlers could be found for logger \"tsfresh.feature_selection.feature_selector\"\n"
     ]
    }
   ],
   "source": [
    "# the following is the implementation of the tsfresh algorithm\n",
    "\n",
    "from tsfresh import extract_features\n",
    "from tsfresh import select_features\n",
    "from tsfresh.utilities.dataframe_functions import impute\n",
    "\n",
    "\n",
    "total_dict = {'A': df_raw_T, 'B': df_std_dev_T, 'C': log_data_frame_T,\n",
    "              'D': derivative_df_T, 'E': data_phase_df_T, 'F': df_std_dev_phase_T, 'G': log_phase_T, \n",
    "             'H': log_difference_phase_T, 'I': derivative_df_phase_T}\n",
    "\n",
    "extracted_features = extract_features(total_dict, column_id=\"Ids\",\n",
    "                                      column_sort=\"time\")\n",
    "\n",
    "\n",
    "# impute removes any features that only contain NaN \n",
    "impute(extracted_features)\n",
    "\n",
    "# features filtered removes features that aren't statistically significant \n",
    "# and puts them in format that allows them to be used for training\n",
    "features_filtered = select_features(extracted_features, y)\n"
   ]
  },
  {
   "cell_type": "markdown",
   "metadata": {},
   "source": [
    "Note: The above error is to with SciPys handling of one of the features being calculated by TSFRESH. I don't understand the error entirely or its effects on the results. "
   ]
  },
  {
   "cell_type": "markdown",
   "metadata": {},
   "source": [
    "Below the Sklearn modules are called xgboost is tested on the default features generated by TSFRESH. "
   ]
  },
  {
   "cell_type": "code",
   "execution_count": 18,
   "metadata": {
    "collapsed": false
   },
   "outputs": [
    {
     "name": "stdout",
     "output_type": "stream",
     "text": [
      "pr_auc model score: 0.65090799211\n"
     ]
    }
   ],
   "source": [
    "from xgboost.sklearn import XGBClassifier\n",
    "from sklearn import metrics\n",
    "from sklearn.model_selection import cross_val_predict\n",
    "\n",
    "# function to fit and get scores\n",
    "def modelfit(alg, X, y, cv_folds=4):\n",
    "\n",
    "    # StratifiedKFold automatically used by cross_val_predict on binary classification\n",
    "    # does not use trapezoid rule\n",
    "    # y_pred calculates the probabilities that each value is 1 or 0 using stratified cross validation \n",
    "    # pr_auc calculates the area under a precision recall curve \n",
    "    y_pred = cross_val_predict(alg, X, y, cv=cv_folds)\n",
    "    pr_auc = metrics.average_precision_score(y, y_pred)\n",
    "\n",
    "\n",
    "    # Print model report:\n",
    "    print \"pr_auc model score: {0}\".format(pr_auc)\n",
    "\n",
    "# initialize model and call fitting function\n",
    "xgb1 = XGBClassifier(\n",
    "    objective='binary:logistic')\n",
    "\n",
    "modelfit(xgb1, features_filtered, y)"
   ]
  },
  {
   "cell_type": "markdown",
   "metadata": {},
   "source": [
    "We can see that the transformations applied help, as the first attempt at tsfresh in previous notebooks gave a score around .60. \n",
    "\n",
    "Below, the 'fdr_level' is called where a lower value makes the filter more conservative and the default .05. "
   ]
  },
  {
   "cell_type": "code",
   "execution_count": 19,
   "metadata": {
    "collapsed": false
   },
   "outputs": [],
   "source": [
    "from tsfresh.feature_selection import FeatureSignificanceTestsSettings\n",
    "from tsfresh.feature_selection import select_features\n",
    "settings = FeatureSignificanceTestsSettings()\n",
    "settings.fdr_level = 0.01\n",
    "\n",
    "features_filtered = select_features(extracted_features, y,\n",
    "                                    feature_selection_settings=settings)\n"
   ]
  },
  {
   "cell_type": "code",
   "execution_count": 20,
   "metadata": {
    "collapsed": false
   },
   "outputs": [
    {
     "name": "stdout",
     "output_type": "stream",
     "text": [
      "pr_auc model score: 0.65090799211\n"
     ]
    }
   ],
   "source": [
    "modelfit(xgb1, features_filtered, y)"
   ]
  },
  {
   "cell_type": "markdown",
   "metadata": {},
   "source": [
    "So making it more conservative caused a slight decrease in score, what if we double the default score of .05? "
   ]
  },
  {
   "cell_type": "code",
   "execution_count": 21,
   "metadata": {
    "collapsed": true
   },
   "outputs": [],
   "source": [
    "settings.fdr_level = 0.1\n",
    "# select_features(X, y, feature_extraction_settings=settings)\n",
    "features_filtered = select_features(extracted_features, y,\n",
    "                                    feature_selection_settings=settings)"
   ]
  },
  {
   "cell_type": "code",
   "execution_count": null,
   "metadata": {
    "collapsed": true
   },
   "outputs": [],
   "source": []
  },
  {
   "cell_type": "code",
   "execution_count": 22,
   "metadata": {
    "collapsed": false
   },
   "outputs": [
    {
     "name": "stdout",
     "output_type": "stream",
     "text": [
      "pr_auc model score: 0.667510195876\n"
     ]
    }
   ],
   "source": [
    "modelfit(xgb1, features_filtered, y)"
   ]
  },
  {
   "cell_type": "markdown",
   "metadata": {},
   "source": [
    "We see that caused an increase, so we'll try a range from very conservative up to all the features and see what it yields. "
   ]
  },
  {
   "cell_type": "code",
   "execution_count": 23,
   "metadata": {
    "collapsed": false
   },
   "outputs": [
    {
     "name": "stdout",
     "output_type": "stream",
     "text": [
      "Training using 842 features\n",
      "pr_auc model score: 0.654071987604\n",
      "Training using 907 features\n",
      "pr_auc model score: 0.647603053878\n",
      "Training using 944 features\n",
      "pr_auc model score: 0.65090799211\n",
      "Training using 957 features\n",
      "pr_auc model score: 0.646299150504\n",
      "Training using 982 features\n",
      "pr_auc model score: 0.657490880934\n",
      "Training using 987 features\n",
      "pr_auc model score: 0.657490880934\n",
      "Training using 992 features\n",
      "pr_auc model score: 0.657490880934\n",
      "Training using 1001 features\n",
      "pr_auc model score: 0.667510195876\n",
      "Training using 1062 features\n",
      "pr_auc model score: 0.670761989217\n",
      "Training using 1076 features\n",
      "pr_auc model score: 0.65735898207\n",
      "Training using 1157 features\n",
      "pr_auc model score: 0.641296793199\n",
      "Training using 1172 features\n",
      "pr_auc model score: 0.635982618976\n",
      "Training using 1172 features\n",
      "pr_auc model score: 0.635982618976\n"
     ]
    }
   ],
   "source": [
    "fdr_levels = [.001, .005, .01, .03, .05, .07, .09, .1, .3, .5, .7, .9, 1]\n",
    "for fdr_level in fdr_levels:\n",
    "    settings.fdr_level = fdr_level\n",
    "    features_filtered = select_features(extracted_features, y,\n",
    "                                        feature_selection_settings=settings)\n",
    "    print 'Training using {0} features'.format(len(features_filtered.columns))\n",
    "    modelfit(xgb1, features_filtered, y)\n"
   ]
  },
  {
   "cell_type": "markdown",
   "metadata": {
    "collapsed": true
   },
   "source": [
    "As we can see it performs better than our previous result, with a high score of ~.67 compared with the first TSFRESH notebook which had a score of .60 however requires many more features (1062). We'll see what happens when we use the combined feature file on the best outcome. "
   ]
  },
  {
   "cell_type": "code",
   "execution_count": 25,
   "metadata": {
    "collapsed": false
   },
   "outputs": [
    {
     "name": "stdout",
     "output_type": "stream",
     "text": [
      "pr_auc model score: 0.670761989217\n"
     ]
    }
   ],
   "source": [
    "X = data_combined_features.drop(['Ids', 'CatalogY', 'ManuleY', 'CombinedY',\n",
    "                                 'Catalog_Period', 'Depth', 'Catalog_Epoch', 'SNR', 'BLS_Depth_1_0'],\n",
    "                                axis=1)\n",
    "settings.fdr_level = .3\n",
    "features_filtered = select_features(extracted_features, y,\n",
    "                                    feature_selection_settings=settings)\n",
    "total_features = pd.concat([X, features_filtered], axis=1)\n",
    "\n",
    "modelfit(xgb1, features_filtered, y)\n"
   ]
  },
  {
   "cell_type": "markdown",
   "metadata": {},
   "source": [
    "Which we can see is lower than the TSRESH features alone. However the best score so far is ~.72 which is with the combined features without BLS_Depth"
   ]
  },
  {
   "cell_type": "code",
   "execution_count": null,
   "metadata": {
    "collapsed": true
   },
   "outputs": [],
   "source": []
  }
 ],
 "metadata": {
  "anaconda-cloud": {},
  "kernelspec": {
   "display_name": "Python [conda env:py27]",
   "language": "python",
   "name": "conda-env-py27-py"
  },
  "language_info": {
   "codemirror_mode": {
    "name": "ipython",
    "version": 2
   },
   "file_extension": ".py",
   "mimetype": "text/x-python",
   "name": "python",
   "nbconvert_exporter": "python",
   "pygments_lexer": "ipython2",
   "version": "2.7.12"
  }
 },
 "nbformat": 4,
 "nbformat_minor": 0
}
