{
 "cells": [
  {
   "cell_type": "code",
   "execution_count": 6,
   "metadata": {
    "collapsed": true
   },
   "outputs": [
    {
     "name": "stdout",
     "output_type": "stream",
     "text": [
      "\nModel Report\npr_auc model score: 0.712055122455\n"
     ]
    }
   ],
   "source": [
    "# import modules\n",
    "import pandas as pd\n",
    "from xgboost.sklearn import XGBClassifier\n",
    "from sklearn import metrics\n",
    "from sklearn.model_selection import cross_val_score, cross_val_predict\n",
    "import xgboost as xgb\n",
    "from matplotlib import pyplot as plt\n",
    "import numpy as np\n",
    "\n",
    "\n",
    "df = pd.read_csv(\"TESS_simulateddata_combinedfeatures.csv\", index_col=0)\n",
    "\n",
    "X = df.drop(['Ids', 'CatalogY', 'ManuleY', 'CombinedY', 'Catalog_Period', 'Depth', 'Catalog_Epoch', 'SNR'], axis=1)\n",
    "\n",
    "target = 'CombinedY'\n",
    "predictors = [x for x in X.columns if x not in [target]]\n",
    "\n",
    "def modelfit(alg, train, predictors, cv_folds=4):\n",
    "\n",
    "    # StratifiedKFold automatically used by cross_val_predict on binary classification \n",
    "    # bear in mind that this does not use trapezoid rule\n",
    "\n",
    "    y_pred = cross_val_predict(alg, df[predictors], df[target], cv=cv_folds)\n",
    "    pr_auc = metrics.average_precision_score(df[target], y_pred)\n",
    "    \n",
    "\n",
    "# Print model report:\n",
    "    print \"\\nModel Report\"\n",
    "    print \"pr_auc model score: {0}\".format(pr_auc)\n",
    "\n",
    "\n",
    "                                                   \n",
    "\n",
    "\n",
    "# initialize model and call fitting function\n",
    "xgb1 = XGBClassifier(\n",
    "    learning_rate=0.1,\n",
    "    n_estimators=65,\n",
    "    max_depth=5,\n",
    "    min_child_weight=1,\n",
    "    gamma=0,\n",
    "    subsample=0.8,\n",
    "    colsample_bytree=0.8,\n",
    "    objective='binary:logistic')\n",
    "\n",
    "modelfit(xgb1, df, predictors)"
   ]
  },
  {
   "cell_type": "code",
   "execution_count": null,
   "metadata": {},
   "outputs": [],
   "source": [
    ""
   ]
  }
 ],
 "metadata": {
  "kernelspec": {
   "display_name": "Python 2",
   "language": "python",
   "name": "python2"
  },
  "language_info": {
   "codemirror_mode": {
    "name": "ipython",
    "version": 2.0
   },
   "file_extension": ".py",
   "mimetype": "text/x-python",
   "name": "python",
   "nbconvert_exporter": "python",
   "pygments_lexer": "ipython2",
   "version": "2.7.6"
  }
 },
 "nbformat": 4,
 "nbformat_minor": 0
}