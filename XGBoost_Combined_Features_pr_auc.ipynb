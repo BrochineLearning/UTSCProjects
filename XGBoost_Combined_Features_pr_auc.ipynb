{
 "cells": [
  {
   "cell_type": "code",
   "execution_count": 12,
   "metadata": {
    "collapsed": true
   },
   "outputs": [
    {
     "name": "stdout",
     "output_type": "stream",
     "text": [
      "[LightGBM] [Error] Unknown parameter in config file: valid=\n[LightGBM] [Info] Loading parameters .. finished\n[LightGBM] [Info] Finish loading data, use 0.153366 seconds\n[LightGBM] [Info] Number of data:12209, Number of features:40\n[LightGBM] [Info] Finish training initilization.\n[LightGBM] [Info] Start train\n[LightGBM] [Info] cannot find more split with gain = 0.000000 , current #leaves=9\n[LightGBM] [Info] 0.002499 seconds elapsed, finished 1 iteration\n[LightGBM] [Info] cannot find more split with gain = -inf , current #leaves=105\n[LightGBM] [Info] 0.018653 seconds elapsed, finished 2 iteration\n[LightGBM] [Info] cannot find more split with gain = -inf , current #leaves=111\n[LightGBM] [Info] 0.037027 seconds elapsed, finished 3 iteration\n[LightGBM] [Info] cannot find more split with gain = -inf , current #leaves=107\n[LightGBM] [Info] 0.053571 seconds elapsed, finished 4 iteration\n[LightGBM] [Info] cannot find more split with gain = -inf , current #leaves=106\n[LightGBM] [Info] 0.070826 seconds elapsed, finished 5 iteration\n[LightGBM] [Info] cannot find more split with gain = -inf , current #leaves=104\n[LightGBM] [Info] 0.086927 seconds elapsed, finished 6 iteration\n[LightGBM] [Info] cannot find more split with gain = -inf , current #leaves=106\n[LightGBM] [Info] 0.104695 seconds elapsed, finished 7 iteration\n[LightGBM] [Info] cannot find more split with gain = -inf , current #leaves=104\n[LightGBM] [Info] 0.120458 seconds elapsed, finished 8 iteration\n[LightGBM] [Info] cannot find more split with gain = -inf , current #leaves=99\n[LightGBM] [Info] 0.134949 seconds elapsed, finished 9 iteration\n[LightGBM] [Info] cannot find more split with gain = -inf , current #leaves=106\n[LightGBM] [Info] 0.150819 seconds elapsed, finished 10 iteration\n[LightGBM] [Info] Finish train\n\n"
     ]
    },
    {
     "name": "stdout",
     "output_type": "stream",
     "text": [
      "[LightGBM] [Info] Loading parameters .. finished\n[LightGBM] [Info] 10 models has been loaded\n\n[LightGBM] [Info] Finish predict initilization.\n[LightGBM] [Info] Start prediction for data /tmp/tmpqAk04M/X_to_pred.svm with labels\n[LightGBM] [Info] Finish predict.\n\n"
     ]
    },
    {
     "name": "stdout",
     "output_type": "stream",
     "text": [
      "[LightGBM] [Error] Unknown parameter in config file: valid=\n[LightGBM] [Info] Loading parameters .. finished\n[LightGBM] [Info] Finish loading data, use 0.120453 seconds\n[LightGBM] [Info] Number of data:12209, Number of features:40\n[LightGBM] [Info] Finish training initilization.\n[LightGBM] [Info] Start train\n[LightGBM] [Info] cannot find more split with gain = 0.000000 , current #leaves=10\n[LightGBM] [Info] 0.002000 seconds elapsed, finished 1 iteration\n[LightGBM] [Info] cannot find more split with gain = 0.000000 , current #leaves=86\n[LightGBM] [Info] 0.012783 seconds elapsed, finished 2 iteration\n[LightGBM] [Info] cannot find more split with gain = -inf , current #leaves=108\n[LightGBM] [Info] 0.027054 seconds elapsed, finished 3 iteration\n[LightGBM] [Info] cannot find more split with gain = -inf , current #leaves=104\n[LightGBM] [Info] 0.040526 seconds elapsed, finished 4 iteration\n[LightGBM] [Info] cannot find more split with gain = -inf , current #leaves=103\n[LightGBM] [Info] 0.052543 seconds elapsed, finished 5 iteration\n[LightGBM] [Info] cannot find more split with gain = -inf , current #leaves=101\n[LightGBM] [Info] 0.064544 seconds elapsed, finished 6 iteration\n[LightGBM] [Info] cannot find more split with gain = -inf , current #leaves=104\n[LightGBM] [Info] 0.077353 seconds elapsed, finished 7 iteration\n[LightGBM] [Info] cannot find more split with gain = -inf , current #leaves=104\n[LightGBM] [Info] 0.090337 seconds elapsed, finished 8 iteration\n[LightGBM] [Info] cannot find more split with gain = -inf , current #leaves=104\n[LightGBM] [Info] 0.103013 seconds elapsed, finished 9 iteration\n[LightGBM] [Info] cannot find more split with gain = -inf , current #leaves=102\n[LightGBM] [Info] 0.114914 seconds elapsed, finished 10 iteration\n[LightGBM] [Info] Finish train\n\n"
     ]
    },
    {
     "name": "stdout",
     "output_type": "stream",
     "text": [
      "[LightGBM] [Info] Loading parameters .. finished\n[LightGBM] [Info] 10 models has been loaded\n\n[LightGBM] [Info] Finish predict initilization.\n[LightGBM] [Info] Start prediction for data /tmp/tmpUBEPCg/X_to_pred.svm with labels\n[LightGBM] [Info] Finish predict.\n\n"
     ]
    },
    {
     "name": "stdout",
     "output_type": "stream",
     "text": [
      "[LightGBM] [Error] Unknown parameter in config file: valid=\n[LightGBM] [Info] Loading parameters .. finished\n[LightGBM] [Info] Finish loading data, use 0.120071 seconds\n[LightGBM] [Info] Number of data:12209, Number of features:40\n[LightGBM] [Info] Finish training initilization.\n[LightGBM] [Info] Start train\n[LightGBM] [Info] cannot find more split with gain = 0.000000 , current #leaves=10\n[LightGBM] [Info] 0.002086 seconds elapsed, finished 1 iteration\n[LightGBM] [Info] cannot find more split with gain = 0.000000 , current #leaves=106\n[LightGBM] [Info] 0.015634 seconds elapsed, finished 2 iteration\n[LightGBM] [Info] cannot find more split with gain = -inf , current #leaves=108\n[LightGBM] [Info] 0.030016 seconds elapsed, finished 3 iteration\n[LightGBM] [Info] cannot find more split with gain = -inf , current #leaves=101\n[LightGBM] [Info] 0.041825 seconds elapsed, finished 4 iteration\n[LightGBM] [Info] cannot find more split with gain = -inf , current #leaves=99\n[LightGBM] [Info] 0.053465 seconds elapsed, finished 5 iteration\n[LightGBM] [Info] cannot find more split with gain = -inf , current #leaves=100\n[LightGBM] [Info] 0.065065 seconds elapsed, finished 6 iteration\n[LightGBM] [Info] cannot find more split with gain = -inf , current #leaves=104\n[LightGBM] [Info] 0.078252 seconds elapsed, finished 7 iteration\n[LightGBM] [Info] cannot find more split with gain = -inf , current #leaves=101\n[LightGBM] [Info] 0.090484 seconds elapsed, finished 8 iteration\n[LightGBM] [Info] cannot find more split with gain = -inf , current #leaves=106\n[LightGBM] [Info] 0.102775 seconds elapsed, finished 9 iteration\n[LightGBM] [Info] cannot find more split with gain = -inf , current #leaves=108\n[LightGBM] [Info] 0.115615 seconds elapsed, finished 10 iteration\n[LightGBM] [Info] Finish train\n\n"
     ]
    },
    {
     "name": "stdout",
     "output_type": "stream",
     "text": [
      "[LightGBM] [Info] Loading parameters .. finished\n[LightGBM] [Info] 10 models has been loaded\n\n[LightGBM] [Info] Finish predict initilization.\n[LightGBM] [Info] Start prediction for data /tmp/tmpRl42nR/X_to_pred.svm with labels\n[LightGBM] [Info] Finish predict.\n\n"
     ]
    },
    {
     "name": "stdout",
     "output_type": "stream",
     "text": [
      "[LightGBM] [Error] Unknown parameter in config file: valid=\n[LightGBM] [Info] Loading parameters .. finished\n[LightGBM] [Info] Finish loading data, use 0.120101 seconds\n[LightGBM] [Info] Number of data:12210, Number of features:40\n[LightGBM] [Info] Finish training initilization.\n[LightGBM] [Info] Start train\n[LightGBM] [Info] cannot find more split with gain = 0.000000 , current #leaves=8\n[LightGBM] [Info] 0.001943 seconds elapsed, finished 1 iteration\n[LightGBM] [Info] cannot find more split with gain = -inf , current #leaves=105\n[LightGBM] [Info] 0.015414 seconds elapsed, finished 2 iteration\n[LightGBM] [Info] cannot find more split with gain = -inf , current #leaves=106\n[LightGBM] [Info] 0.029682 seconds elapsed, finished 3 iteration\n[LightGBM] [Info] cannot find more split with gain = -inf , current #leaves=101\n[LightGBM] [Info] 0.042724 seconds elapsed, finished 4 iteration\n[LightGBM] [Info] cannot find more split with gain = -inf , current #leaves=100\n[LightGBM] [Info] 0.054181 seconds elapsed, finished 5 iteration\n[LightGBM] [Info] cannot find more split with gain = -inf , current #leaves=101\n[LightGBM] [Info] 0.065881 seconds elapsed, finished 6 iteration\n[LightGBM] [Info] cannot find more split with gain = -inf , current #leaves=102\n[LightGBM] [Info] 0.078023 seconds elapsed, finished 7 iteration\n[LightGBM] [Info] cannot find more split with gain = -inf , current #leaves=103\n[LightGBM] [Info] 0.090176 seconds elapsed, finished 8 iteration\n[LightGBM] [Info] cannot find more split with gain = -inf , current #leaves=105\n[LightGBM] [Info] 0.104121 seconds elapsed, finished 9 iteration\n[LightGBM] [Info] cannot find more split with gain = -inf , current #leaves=103\n[LightGBM] [Info] 0.116043 seconds elapsed, finished 10 iteration\n[LightGBM] [Info] Finish train\n\n"
     ]
    },
    {
     "name": "stdout",
     "output_type": "stream",
     "text": [
      "[LightGBM] [Info] Loading parameters .. finished\n[LightGBM] [Info] 10 models has been loaded\n\n[LightGBM] [Info] Finish predict initilization.\n[LightGBM] [Info] Start prediction for data /tmp/tmps6yHg6/X_to_pred.svm with labels\n[LightGBM] [Info] Finish predict.\n\n\nModel Report for model GBMRegressor(application='regression', bagging_fraction=1.0, bagging_freq=0,\n       bagging_seed=3, config='', early_stopping_round=0,\n       exec_path='/home/tom/IdeaProjects/Astronomy Supervised Project/LightGBM/build/build/LightGBM/lightgbm',\n       feature_fraction=1.0, feature_fraction_seed=2, learning_rate=0.1,\n       max_bin=255, metric='l2', metric_freq=1, min_data_in_leaf=100,\n       model=None, num_iterations=10, num_leaves=127, num_threads=1,\n       tree_learner='serial', verbose=True)\npr_auc model score: 0.589495747278\n"
     ]
    },
    {
     "name": "stdout",
     "output_type": "stream",
     "text": [
      "\nModel Report for model XGBClassifier(base_score=0.5, colsample_bylevel=1, colsample_bytree=1,\n       gamma=0, learning_rate=0.1, max_delta_step=0, max_depth=3,\n       min_child_weight=1, missing=None, n_estimators=100, nthread=-1,\n       objective='binary:logistic', reg_alpha=0, reg_lambda=1,\n       scale_pos_weight=1, seed=0, silent=True, subsample=1)\npr_auc model score: 0.699410868328\n"
     ]
    }
   ],
   "source": [
    "# import modules\n",
    "import pandas as pd\n",
    "from xgboost.sklearn import XGBClassifier\n",
    "from sklearn import metrics\n",
    "from sklearn.model_selection import cross_val_score, cross_val_predict\n",
    "from pylightgbm.models import GBMRegressor\n",
    "\n",
    "\n",
    "df = pd.read_csv(\"TESS_simulateddata_combinedfeatures.csv\", index_col=0)\n",
    "X = df.drop(['Ids', 'CatalogY', 'ManuleY', 'CombinedY', 'Catalog_Period', 'Depth', 'Catalog_Epoch', 'SNR'],\n",
    "            axis=1)\n",
    "target = 'CombinedY'\n",
    "\n",
    "predictors = [x for x in X.columns if x not in [target]]\n",
    "\n",
    "path = \"/home/tom/IdeaProjects/Astronomy Supervised Project/LightGBM/build/build/LightGBM/lightgbm\"\n",
    "\n",
    "def modelfit(alg, train, predictors, cv_folds=4):\n",
    "\n",
    "    y_pred = cross_val_predict(alg, df[predictors], df[target], cv=cv_folds)\n",
    "    pr_auc = metrics.average_precision_score(df[target], y_pred)\n",
    "\n",
    "\n",
    "    # Print model report:\n",
    "    print \"\\nModel Report for model {0}\".format(alg)\n",
    "    print \"pr_auc model score: {0}\".format(pr_auc)\n",
    "\n",
    "\n",
    "\n",
    "\n",
    "\n",
    "# initialize model and call fitting function\n",
    "xgb = XGBClassifier(\n",
    "    objective='binary:logistic')\n",
    "lgbm = GBMRegressor(exec_path=path)\n",
    "\n",
    "\n",
    "modelfit(lgbm, df, predictors)\n",
    "modelfit(xgb, df, predictors)"
   ]
  },
  {
   "cell_type": "code",
   "execution_count": 14,
   "metadata": {},
   "outputs": [
    {
     "name": "stdout",
     "output_type": "stream",
     "text": [
      "[LightGBM] [Error] Unknown parameter in config file: valid=\n[LightGBM] [Info] Loading parameters .. finished\n[LightGBM] [Info] Finish loading data, use 0.154221 seconds\n[LightGBM] [Info] Number of data:12209, Number of features:40\n[LightGBM] [Info] Finish training initilization.\n[LightGBM] [Info] Start train\n[LightGBM] [Info] cannot find more split with gain = 0.000000 , current #leaves=39\n[LightGBM] [Info] 0.006171 seconds elapsed, finished 1 iteration\n[LightGBM] [Info] 0.023790 seconds elapsed, finished 2 iteration\n[LightGBM] [Info] 0.041204 seconds elapsed, finished 3 iteration\n[LightGBM] [Info] 0.059050 seconds elapsed, finished 4 iteration\n[LightGBM] [Info] 0.076833 seconds elapsed, finished 5 iteration\n[LightGBM] [Info] 0.093950 seconds elapsed, finished 6 iteration\n[LightGBM] [Info] 0.111077 seconds elapsed, finished 7 iteration\n[LightGBM] [Info] 0.128077 seconds elapsed, finished 8 iteration\n[LightGBM] [Info] 0.144547 seconds elapsed, finished 9 iteration\n[LightGBM] [Info] 0.160910 seconds elapsed, finished 10 iteration\n[LightGBM] [Info] Finish train\n\n"
     ]
    },
    {
     "name": "stdout",
     "output_type": "stream",
     "text": [
      "[LightGBM] [Info] Loading parameters .. finished\n[LightGBM] [Info] 10 models has been loaded\n\n[LightGBM] [Info] Finish predict initilization.\n[LightGBM] [Info] Start prediction for data /tmp/tmpvKZrVH/X_to_pred.svm with labels\n[LightGBM] [Info] Finish predict.\n\n"
     ]
    },
    {
     "name": "stdout",
     "output_type": "stream",
     "text": [
      "[LightGBM] [Error] Unknown parameter in config file: valid=\n[LightGBM] [Info] Loading parameters .. finished\n[LightGBM] [Info] Finish loading data, use 0.153911 seconds\n[LightGBM] [Info] Number of data:12209, Number of features:40\n[LightGBM] [Info] Finish training initilization.\n[LightGBM] [Info] Start train\n[LightGBM] [Info] cannot find more split with gain = 0.000000 , current #leaves=34\n[LightGBM] [Info] 0.005724 seconds elapsed, finished 1 iteration\n[LightGBM] [Info] 0.023342 seconds elapsed, finished 2 iteration\n[LightGBM] [Info] 0.041079 seconds elapsed, finished 3 iteration\n[LightGBM] [Info] 0.059202 seconds elapsed, finished 4 iteration\n[LightGBM] [Info] 0.077533 seconds elapsed, finished 5 iteration\n[LightGBM] [Info] 0.095058 seconds elapsed, finished 6 iteration\n[LightGBM] [Info] 0.112221 seconds elapsed, finished 7 iteration\n[LightGBM] [Info] 0.129044 seconds elapsed, finished 8 iteration\n[LightGBM] [Info] 0.145253 seconds elapsed, finished 9 iteration\n[LightGBM] [Info] 0.161005 seconds elapsed, finished 10 iteration\n[LightGBM] [Info] Finish train\n\n"
     ]
    },
    {
     "name": "stdout",
     "output_type": "stream",
     "text": [
      "[LightGBM] [Info] Loading parameters .. finished\n[LightGBM] [Info] 10 models has been loaded\n\n[LightGBM] [Info] Finish predict initilization.\n[LightGBM] [Info] Start prediction for data /tmp/tmpa7o_hU/X_to_pred.svm with labels\n[LightGBM] [Info] Finish predict.\n\n"
     ]
    },
    {
     "name": "stdout",
     "output_type": "stream",
     "text": [
      "[LightGBM] [Error] Unknown parameter in config file: valid=\n[LightGBM] [Info] Loading parameters .. finished\n[LightGBM] [Info] Finish loading data, use 0.142605 seconds\n[LightGBM] [Info] Number of data:12209, Number of features:40\n[LightGBM] [Info] Finish training initilization.\n[LightGBM] [Info] Start train\n[LightGBM] [Info] cannot find more split with gain = 0.000000 , current #leaves=37\n[LightGBM] [Info] 0.006161 seconds elapsed, finished 1 iteration\n[LightGBM] [Info] 0.023989 seconds elapsed, finished 2 iteration\n[LightGBM] [Info] 0.041930 seconds elapsed, finished 3 iteration\n[LightGBM] [Info] 0.059452 seconds elapsed, finished 4 iteration\n[LightGBM] [Info] 0.076997 seconds elapsed, finished 5 iteration\n[LightGBM] [Info] 0.093848 seconds elapsed, finished 6 iteration\n[LightGBM] [Info] 0.110549 seconds elapsed, finished 7 iteration\n[LightGBM] [Info] 0.127078 seconds elapsed, finished 8 iteration\n[LightGBM] [Info] 0.142847 seconds elapsed, finished 9 iteration\n[LightGBM] [Info] 0.159071 seconds elapsed, finished 10 iteration\n[LightGBM] [Info] Finish train\n\n"
     ]
    },
    {
     "name": "stdout",
     "output_type": "stream",
     "text": [
      "[LightGBM] [Info] Loading parameters .. finished\n[LightGBM] [Info] 10 models has been loaded\n\n[LightGBM] [Info] Finish predict initilization.\n[LightGBM] [Info] Start prediction for data /tmp/tmpANT0__/X_to_pred.svm with labels\n[LightGBM] [Info] Finish predict.\n\n"
     ]
    },
    {
     "name": "stdout",
     "output_type": "stream",
     "text": [
      "[LightGBM] [Error] Unknown parameter in config file: valid=\n[LightGBM] [Info] Loading parameters .. finished\n[LightGBM] [Info] Finish loading data, use 0.119463 seconds\n[LightGBM] [Info] Number of data:12210, Number of features:40\n[LightGBM] [Info] Finish training initilization.\n[LightGBM] [Info] Start train\n[LightGBM] [Info] cannot find more split with gain = 0.000000 , current #leaves=33\n[LightGBM] [Info] 0.004420 seconds elapsed, finished 1 iteration\n[LightGBM] [Info] 0.018709 seconds elapsed, finished 2 iteration\n[LightGBM] [Info] 0.033410 seconds elapsed, finished 3 iteration\n[LightGBM] [Info] 0.047528 seconds elapsed, finished 4 iteration\n[LightGBM] [Info] 0.061926 seconds elapsed, finished 5 iteration\n[LightGBM] [Info] 0.076121 seconds elapsed, finished 6 iteration\n[LightGBM] [Info] 0.090011 seconds elapsed, finished 7 iteration\n[LightGBM] [Info] 0.104111 seconds elapsed, finished 8 iteration\n[LightGBM] [Info] 0.118023 seconds elapsed, finished 9 iteration\n[LightGBM] [Info] 0.131997 seconds elapsed, finished 10 iteration\n[LightGBM] [Info] Finish train\n\n"
     ]
    },
    {
     "name": "stdout",
     "output_type": "stream",
     "text": [
      "[LightGBM] [Info] Loading parameters .. finished\n[LightGBM] [Info] 10 models has been loaded\n\n[LightGBM] [Info] Finish predict initilization.\n[LightGBM] [Info] Start prediction for data /tmp/tmpbUYTzj/X_to_pred.svm with labels\n[LightGBM] [Info] Finish predict.\n\n\nModel Report for model GBMRegressor(application='regression', bagging_fraction=1.0, bagging_freq=0,\n       bagging_seed=3, config='', early_stopping_round=0,\n       exec_path='/home/tom/IdeaProjects/Astronomy Supervised Project/LightGBM/build/build/LightGBM/lightgbm',\n       feature_fraction=1.0, feature_fraction_seed=2, learning_rate=0.1,\n       max_bin=255, metric='l2', metric_freq=1, min_data_in_leaf=1,\n       model=None, num_iterations=10, num_leaves=127, num_threads=1,\n       tree_learner='serial', verbose=True)\npr_auc model score: 0.662079088258\n"
     ]
    }
   ],
   "source": [
    "lgbm = GBMRegressor(exec_path=path, min_data_in_leaf=1)\n",
    "modelfit(lgbm, df, predictors)"
   ]
  },
  {
   "cell_type": "code",
   "execution_count": null,
   "metadata": {},
   "outputs": [],
   "source": [
    ""
   ]
  }
 ],
 "metadata": {
  "kernelspec": {
   "display_name": "Python 2",
   "language": "python",
   "name": "python2"
  },
  "language_info": {
   "codemirror_mode": {
    "name": "ipython",
    "version": 2.0
   },
   "file_extension": ".py",
   "mimetype": "text/x-python",
   "name": "python",
   "nbconvert_exporter": "python",
   "pygments_lexer": "ipython2",
   "version": "2.7.6"
  }
 },
 "nbformat": 4,
 "nbformat_minor": 0
}