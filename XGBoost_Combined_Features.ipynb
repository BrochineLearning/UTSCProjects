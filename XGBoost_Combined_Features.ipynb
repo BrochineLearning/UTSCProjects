{
 "cells": [
  {
   "cell_type": "code",
   "execution_count": 2,
   "metadata": {
    "collapsed": true
   },
   "outputs": [],
   "source": [
    "# import modules\n",
    "import pandas as pd\n",
    "from xgboost.sklearn import XGBClassifier\n",
    "from sklearn import metrics\n",
    "from sklearn.model_selection import cross_val_score, StratifiedKFold\n",
    "import xgboost as xgb\n",
    "\n",
    "df = pd.read_csv(\"TESS_simulateddata_combinedfeatures.csv\", index_col=0)\n",
    "\n",
    "X = df.drop(['Ids', 'CatalogY', 'ManuleY', 'CombinedY', 'Catalog_Period', 'Depth', 'Catalog_Epoch', 'SNR'], axis=1)\n",
    "\n",
    "target = 'CombinedY'\n",
    "predictors = [x for x in X.columns if x not in [target]]\n",
    "\n",
    "print X.columns\n",
    "\n",
    "\n",
    "def modelfit(alg, train, predictors, cv_folds=4):\n",
    "\n",
    "    # StratifiedKFold for imbalanced data\n",
    "    cv = StratifiedKFold(n_splits=cv_folds, shuffle=True)\n",
    "    \n",
    "    scores_roc = cross_val_score(alg, train[predictors], train['CombinedY'], cv=cv,\n",
    "                                 scoring='roc_auc')\n",
    "    \n",
    "    scores_f1 = cross_val_score(alg, train[predictors], train['CombinedY'], cv=cv, \n",
    "                                scoring='f1')\n",
    "\n",
    "\n",
    "    # Print model report:\n",
    "    print \"\\nModel Report\"\n",
    "    print \" Cross Validation roc_auc Scores : {0} \".format(scores_roc)\n",
    "    print \" Mean Score and Std. Dev. {0}, {1} \". format(scores_roc.mean(), \n",
    "                                                        scores_roc.std())\n",
    "    print \" Cross Validation f1 scores: {0} \".format(scores_f1)\n",
    "    print \"Cross Validation f1 scores mean and Std. Dev {0}, {1}\".format(scores_f1.mean(), \n",
    "                                                                         scores_f1.std())\n",
    "\n",
    "\n",
    "# initialize model and call fitting function\n",
    "xgb1 = XGBClassifier(\n",
    "    learning_rate=0.1,\n",
    "    n_estimators=63,\n",
    "    max_depth=5,\n",
    "    min_child_weight=1,\n",
    "    gamma=0,\n",
    "    subsample=0.8,\n",
    "    colsample_bytree=0.8,\n",
    "    objective='binary:logistic',\n",
    "    nthread=4,\n",
    "    seed=27)\n",
    "\n",
    "modelfit(xgb1, df, predictors)"
   ]
  },
  {
   "cell_type": "code",
   "execution_count": null,
   "metadata": {},
   "outputs": [],
   "source": [
    ""
   ]
  }
 ],
 "metadata": {
  "kernelspec": {
   "display_name": "Python 2",
   "language": "python",
   "name": "python2"
  },
  "language_info": {
   "codemirror_mode": {
    "name": "ipython",
    "version": 2.0
   },
   "file_extension": ".py",
   "mimetype": "text/x-python",
   "name": "python",
   "nbconvert_exporter": "python",
   "pygments_lexer": "ipython2",
   "version": "2.7.6"
  }
 },
 "nbformat": 4,
 "nbformat_minor": 0
}