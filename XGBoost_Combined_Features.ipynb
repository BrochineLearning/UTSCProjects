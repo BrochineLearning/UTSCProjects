{
 "cells": [
  {
   "cell_type": "code",
   "execution_count": 2,
   "metadata": {
    "collapsed": true
   },
   "outputs": [
    {
     "name": "stdout",
     "output_type": "stream",
     "text": [
      "Index([u'BLS_Period_1_0', u'BLS_Tc_1_0', u'BLS_SN_1_0', u'BLS_SR_1_0',\n       u'BLS_SDE_1_0', u'BLS_Depth_1_0', u'BLS_Qtran_1_0', u'BLS_Qingress_1_0',\n       u'BLS_OOTmag_1_0', u'BLS_i1_1_0', u'BLS_i2_1_0', u'BLS_deltaChi2_1_0',\n       u'BLS_fraconenight_1_0', u'BLS_Npointsintransit_1_0',\n       u'BLS_Ntransits_1_0', u'BLS_Npointsbeforetransit_1_0',\n       u'BLS_Npointsaftertransit_1_0', u'BLS_Rednoise_1_0',\n       u'BLS_Whitenoise_1_0', u'BLS_SignaltoPinknoise_1_0', u'P0', u'P1',\n       u'P2', u'P3', u'P4', u'P5', u'P6', u'P7', u'P8', u'P9', u'P10', u'P11',\n       u'P12', u'P13', u'P14', u'P15', u'P16', u'P17', u'P18', u'P19'],\n      dtype='object')\n"
     ]
    },
    {
     "name": "stdout",
     "output_type": "stream",
     "text": [
      "\nModel Report\n Cross Validation roc_auc Scores : [ 0.99247203  0.99582864  0.98064097  0.99675541] \n Mean Score and Std. Dev. 0.991424264157, 0.00642644504038 \n Cross Validation f1 scores: [ 0.65957447  0.68        0.52380952  0.62626263] \nCross Validation f1 scores mean and Std. Dev 0.622411654539, 0.0600722531857\n"
     ]
    }
   ],
   "source": [
    "# import modules\n",
    "import pandas as pd\n",
    "from xgboost.sklearn import XGBClassifier\n",
    "from sklearn import metrics\n",
    "from sklearn.model_selection import cross_val_score, StratifiedKFold\n",
    "import xgboost as xgb\n",
    "\n",
    "df = pd.read_csv(\"TESS_simulateddata_combinedfeatures.csv\", index_col=0)\n",
    "\n",
    "X = df.drop(['Ids', 'CatalogY', 'ManuleY', 'CombinedY', 'Catalog_Period', 'Depth', 'Catalog_Epoch', 'SNR'], axis=1)\n",
    "\n",
    "print X.columns\n",
    "\n",
    "target = 'CombinedY'\n",
    "\n",
    "predictors = [x for x in X.columns if x not in [target]]\n",
    "\n",
    "def modelfit(alg, train, predictors, cv_folds=4):\n",
    "\n",
    "    # StratifiedKFold for imbalanced data\n",
    "    cv = StratifiedKFold(n_splits=cv_folds, shuffle=True)\n",
    "    scores_roc = cross_val_score(alg, train[predictors], train['CombinedY'], cv=cv,\n",
    "                                 scoring='roc_auc')\n",
    "    scores_f1 = cross_val_score(alg, train[predictors], train['CombinedY'], cv=cv, scoring='f1')\n",
    "\n",
    "\n",
    "    # Print model report:\n",
    "    print \"\\nModel Report\"\n",
    "    print \" Cross Validation roc_auc Scores : {0} \".format(scores_roc)\n",
    "    print \" Mean Score and Std. Dev. {0}, {1} \". format(scores_roc.mean(), scores_roc.std())\n",
    "    print \" Cross Validation f1 scores: {0} \".format(scores_f1)\n",
    "    print \"Cross Validation f1 scores mean and Std. Dev {0}, {1}\".format(scores_f1.mean(), scores_f1.std())\n",
    "\n",
    "# initialize model and call fitting function\n",
    "xgb1 = XGBClassifier(\n",
    "    learning_rate=0.1,\n",
    "    n_estimators=63,\n",
    "    max_depth=5,\n",
    "    min_child_weight=1,\n",
    "    gamma=0,\n",
    "    subsample=0.8,\n",
    "    colsample_bytree=0.8,\n",
    "    objective='binary:logistic',\n",
    "    nthread=4,\n",
    "    seed=27)\n",
    "\n",
    "modelfit(xgb1, df, predictors)"
   ]
  },
  {
   "cell_type": "code",
   "execution_count": null,
   "metadata": {},
   "outputs": [],
   "source": [
    ""
   ]
  }
 ],
 "metadata": {
  "kernelspec": {
   "display_name": "Python 2",
   "language": "python",
   "name": "python2"
  },
  "language_info": {
   "codemirror_mode": {
    "name": "ipython",
    "version": 2.0
   },
   "file_extension": ".py",
   "mimetype": "text/x-python",
   "name": "python",
   "nbconvert_exporter": "python",
   "pygments_lexer": "ipython2",
   "version": "2.7.6"
  }
 },
 "nbformat": 4,
 "nbformat_minor": 0
}