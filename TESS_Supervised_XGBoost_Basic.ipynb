{
 "cells": [
  {
   "cell_type": "markdown",
   "metadata": {
    "collapsed": true
   },
   "source": []
  },
  {
   "cell_type": "markdown",
   "metadata": {},
   "source": [
    "# The following is the first initialization of XGBoost on the TESS astrnomical dataset   \n",
    "\n",
    "The training data is split 80% 20% training and test. The split is not random with the first 80% of positives being concatenated with the first 80% of training. The same is done for test.  \n",
    "\n",
    "\n",
    "The model is tested against cross validation using stratified k fold which maintains the original ratio of 1to 0 in the training data when creating folds. The scores for roc_auc are then reported along with the mean and standard deviation. The model is then used to predict the last 20% of the data and the accuracy and roc_auc are reported.   \n",
    "\n",
    "Moving forward:   \n",
    "\n",
    "I think that moving forward using grid search is an optimal way of tuning the parameters of the model. As wepreviously discussed I think its a good idea to take the training positive examples (1) and subsample the negative examples to create balanced data sets which can then be used to train the data.   \n",
    "\n",
    "The accuracy metric is also one of the most important factors in training a good model and I think it is a good idea to research which metrics exist and how they compare to roc_auc as certain papers and competitions have used area under precision recall and kappa as scoring metrics for unbalanced datasets.   "
   ]
  },
  {
   "cell_type": "code",
   "execution_count": 1,
   "metadata": {
    "collapsed": false
   },
   "outputs": [
    {
     "name": "stderr",
     "output_type": "stream",
     "text": [
      "/home/tom/anaconda3/envs/py27/lib/python2.7/site-packages/sklearn/cross_validation.py:44: DeprecationWarning: This module was deprecated in version 0.18 in favor of the model_selection module into which all the refactored classes and functions are moved. Also note that the interface of the new CV iterators are different from that of this module. This module will be removed in 0.20.\n",
      "  \"This module will be removed in 0.20.\", DeprecationWarning)\n"
     ]
    },
    {
     "name": "stdout",
     "output_type": "stream",
     "text": [
      "\n",
      "Model Report\n",
      " Training Data Cross Validation roc_auc Scores : [ 0.43061108  0.59889587  0.49747168  0.58394013  0.50738269  0.61963997\n",
      "  0.46561489  0.43082524  0.40554207  0.52083333] \n",
      " Training Data Mean Score and Std. Dev. 0.506075694841 0.0713935916716 \n",
      "Test Data Accuracy : 0.949631449631\n",
      "Test Data roc_auc score : 0.5  \n"
     ]
    }
   ],
   "source": [
    "# import modules\n",
    "import pandas as pd\n",
    "from xgboost.sklearn import XGBClassifier\n",
    "from sklearn import metrics\n",
    "from sklearn.model_selection import cross_val_score, StratifiedKFold\n",
    "\n",
    "# import data and split into 80% training 20% test\n",
    "train = pd.read_csv('train_TESS_10day_small.csv', header=0)\n",
    "\n",
    "negative_train = train[203:3293]\n",
    "positive_train = train[:162]\n",
    "dtrain = pd.concat([positive_train, negative_train])\n",
    "\n",
    "\n",
    "negative_test = train[3293:4066]\n",
    "positive_test = train[162:203]\n",
    "dtest = pd.concat([negative_test, positive_test])\n",
    "\n",
    "# retrieve header for features and target\n",
    "target = 'target'\n",
    "predictors = [x for x in train.columns if x not in [target]]\n",
    "\n",
    "# function to fit data and test, takes the model, training and testing data\n",
    "# the feature headers and number of folds for cross validation\n",
    "def modelfit(alg, dtrain, dtest, predictors, cv_folds=10):\n",
    "\n",
    "    # StratifiedKFold for imbalanced data\n",
    "    cv = StratifiedKFold(n_splits=cv_folds)\n",
    "    # Test algorithm performance\n",
    "    scores = cross_val_score(alg, dtrain[predictors], dtrain['target'], cv=cv,\n",
    "                             scoring='roc_auc')\n",
    "\n",
    "    # Predict test set:\n",
    "    alg.fit(dtrain[predictors], dtrain['target'])\n",
    "    dtest_predictions = alg.predict(dtest[predictors])\n",
    "\n",
    "    # Print model report:\n",
    "    print \"\\nModel Report\"\n",
    "    print \" Training Data Cross Validation roc_auc Scores : {0} \".format(scores)\n",
    "    print \" Training Data Mean Score and Std. Dev. {0} {1} \". format(scores.mean(),\n",
    "                                                                     scores.std())\n",
    "\n",
    "    print \"Test Data Accuracy : {0}\".format(metrics.accuracy_score(dtest['target'].values,\n",
    "                                                                   dtest_predictions))\n",
    "    print \"Test Data roc_auc score : {0}  \".format(metrics.roc_auc_score(dtest['target'],\n",
    "                                                                         dtest_predictions))\n",
    "# initialize model and call fitting function\n",
    "xgb1 = XGBClassifier(\n",
    "    learning_rate=0.01,\n",
    "    n_estimators=200,\n",
    "    max_depth=5,\n",
    "    min_child_weight=1,\n",
    "    gamma=0,\n",
    "    subsample=0.8,\n",
    "    colsample_bytree=0.8,\n",
    "    objective='binary:logistic',\n",
    "    nthread=4,\n",
    "    seed=27)\n",
    "\n",
    "modelfit(xgb1, dtrain, dtest, predictors)"
   ]
  },
  {
   "cell_type": "code",
   "execution_count": 1,
   "metadata": {
    "collapsed": true
   },
   "outputs": [],
   "source": []
  },
  {
   "cell_type": "code",
   "execution_count": null,
   "metadata": {
    "collapsed": true
   },
   "outputs": [],
   "source": []
  }
 ],
 "metadata": {
  "anaconda-cloud": {},
  "kernelspec": {
   "display_name": "Python [conda env:py27]",
   "language": "python",
   "name": "conda-env-py27-py"
  },
  "language_info": {
   "codemirror_mode": {
    "name": "ipython",
    "version": 2
   },
   "file_extension": ".py",
   "mimetype": "text/x-python",
   "name": "python",
   "nbconvert_exporter": "python",
   "pygments_lexer": "ipython2",
   "version": "2.7.12"
  }
 },
 "nbformat": 4,
 "nbformat_minor": 0
}
