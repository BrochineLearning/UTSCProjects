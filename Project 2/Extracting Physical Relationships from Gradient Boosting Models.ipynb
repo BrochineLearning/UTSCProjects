{
 "cells": [
  {
   "cell_type": "markdown",
   "metadata": {},
   "source": [
    "# Extracting Physical Relationships from Gradient Boosting Models"
   ]
  },
  {
   "cell_type": "markdown",
   "metadata": {},
   "source": [
    "In order to provide accurate classification cababilities a model must learn rules from the data its presented so that it may apply them to future unknown data. \n",
    "\n",
    "The relationships that the model learns are not always obvious, feature sets can span anywhere from in the 10s to 100s with anywhere from 50 thousand to 100 million samples. \n",
    "\n",
    "By examining the rules learned by a machine learning algorithm we can bring to light physical relationships that are predictors of class that would be too complex to extract by traditional data analysis methods. To extract the rules Partial Dependence Plots can be used. The partial dependence of a feature with respect to target class is analagous to marginal probability within joint probability distributions. \n",
    "\n",
    "Given a joint probability distribution of n variables, we can integrate along the range of variable x in n in order to get the marginal dependence of probabilty on the other variables. \n",
    "\n",
    "Previously 3 sklearn gradient boosting classification models were trained to high accuracy (.95 roc_auc, .90 accuracy), each seperately tuned to have unique hyperparameters to ensure that any relationships found were model robust, this notebook presents some consistencies as well as inconsistencies in the PDP plots of those models. \n",
    "\n",
    "For a full rundown of the method of those notebooks see: \n",
    "\n",
    "https://github.com/NickBuchny/UTSCProjects/blob/master/Project%202/Full%20Parameter%20Space%20Feature%20Testing%20for%20Consistency%20Across%20PDP%20models.ipynb\n",
    "\n",
    "https://github.com/NickBuchny/UTSCProjects/blob/master/Project%202/Partial%20Parameter%20Space%20Feature%20Testing%20for%20Consistency%20Across%20PDP%20models.ipynb\n",
    "\n",
    "https://github.com/NickBuchny/UTSCProjects/blob/master/Project%202/Replication%20Model%20Multi%20Plot%20Partial%20Dependence.ipynb\n",
    "\n",
    "The Replication Model was tuned by hand, while the partial parameter and full parameter models were trained using [hyperopt](http://hyperopt.github.io/hyperopt/), a bayesian optimization algorithm for hyperparameter tuning of ML algorithms."
   ]
  },
  {
   "cell_type": "markdown",
   "metadata": {},
   "source": [
    "# The PDP Plots\n",
    "\n",
    "Below are the PDP plots for the models. \n",
    "\n",
    "For relationships that were consistent across the 3 models only one plot will be presented. \n",
    "\n",
    "For any discrepencies the plots from the 3 models will all be presented. \n",
    "\n",
    "Note that:\n",
    "Replication parameter space refers to the hand tuned model \n",
    "Partial parameter space refers to using HyperOpt to train those parameters tuned in the Replication model \n",
    "Full parameter space refers to using HyperOpt on all the tunable hyperparameters for GBC. \n",
    "\n",
    "GBC was used as PDPs are not available for the XGBoost Package. "
   ]
  },
  {
   "cell_type": "markdown",
   "metadata": {
    "collapsed": true
   },
   "source": [
    "# Consistencies\n",
    "\n",
    "First we'll start with the interesting relationships that are consistent accross models"
   ]
  },
  {
   "cell_type": "markdown",
   "metadata": {},
   "source": [
    "![title](Partial Dependence Plots/Consistent/norm_lyapunovtime_maxdaoverrh.png)"
   ]
  },
  {
   "cell_type": "markdown",
   "metadata": {},
   "source": [
    "![title](Partial Dependence Plots/Consistent/norm_lyapunovtime_mindaoverrh.png)"
   ]
  },
  {
   "cell_type": "markdown",
   "metadata": {},
   "source": [
    "![title](Partial Dependence Plots/Consistent/mindaoverrh_nomr_lyapunovtime_replication.png)"
   ]
  },
  {
   "cell_type": "markdown",
   "metadata": {},
   "source": [
    "![title](Partial Dependence Plots/Consistent/daoverrh1_norm_std_a2.png)"
   ]
  },
  {
   "cell_type": "markdown",
   "metadata": {},
   "source": [
    "![title](Partial Dependence Plots/Consistent/maxdaoverrh_normstda2.png)"
   ]
  },
  {
   "cell_type": "markdown",
   "metadata": {},
   "source": [
    "![title](Partial Dependence Plots/Consistent/mindaoverrh_normstda2.png)"
   ]
  },
  {
   "cell_type": "markdown",
   "metadata": {},
   "source": [
    "![title](Partial Dependence Plots/Consistent/norm_lyapunov_max_a2.png)"
   ]
  },
  {
   "cell_type": "markdown",
   "metadata": {},
   "source": [
    "![title](Partial Dependence Plots/Consistent/norm_lyapunovtime_norm_max_a2.png)"
   ]
  },
  {
   "cell_type": "markdown",
   "metadata": {},
   "source": [
    "![title](Partial Dependence Plots/Consistent/norm_lyapunovtime_norm_std_a2.png)"
   ]
  },
  {
   "cell_type": "markdown",
   "metadata": {},
   "source": [
    "![title](Partial Dependence Plots/Consistent/norm_lyapunovtime_norm_std_a3.png)"
   ]
  },
  {
   "cell_type": "markdown",
   "metadata": {},
   "source": [
    "![title](Partial Dependence Plots/Consistent/norm_std_a2_max_a2.png)"
   ]
  },
  {
   "cell_type": "markdown",
   "metadata": {},
   "source": [
    "![title](Partial Dependence Plots/Consistent/norm_std_a2_norm_max_a2.png)"
   ]
  },
  {
   "cell_type": "markdown",
   "metadata": {},
   "source": [
    "![title](Partial Dependence Plots/Consistent/norm_std_a3_norm_std_a2.png)"
   ]
  },
  {
   "cell_type": "markdown",
   "metadata": {},
   "source": [
    "# Inconsistencies\n",
    "\n",
    "Below will show some inconsistencies accross the models, some are more drastic than others. "
   ]
  },
  {
   "cell_type": "markdown",
   "metadata": {},
   "source": [
    "daOverRh1 Vs daOverRH2:"
   ]
  },
  {
   "cell_type": "markdown",
   "metadata": {},
   "source": [
    "![title](Partial Dependence Plots/Inconsistent/daoverrh1_daoverrh2.png)"
   ]
  },
  {
   "cell_type": "markdown",
   "metadata": {},
   "source": [
    "![title](Partial Dependence Plots/Inconsistent/daoverrh1_daoverrh2_full.png)\n",
    "\n",
    "\n"
   ]
  },
  {
   "cell_type": "markdown",
   "metadata": {},
   "source": [
    "![title](Partial Dependence Plots/Inconsistent/daoverrh1_daoverrh2_partial.png)\n"
   ]
  },
  {
   "cell_type": "markdown",
   "metadata": {},
   "source": [
    "daOverRH1 vs maxDaOverRH:"
   ]
  },
  {
   "cell_type": "markdown",
   "metadata": {},
   "source": [
    "![title](Partial Dependence Plots/Inconsistent/daoverrh1_maxdaoverrh_full.png)\n"
   ]
  },
  {
   "cell_type": "markdown",
   "metadata": {},
   "source": [
    "![title](Partial Dependence Plots/Inconsistent/daoverrh1_maxdaoverrh_partial.png)\n"
   ]
  },
  {
   "cell_type": "markdown",
   "metadata": {},
   "source": [
    "![title](Partial Dependence Plots/Inconsistent/daoverrh1_maxdaoverrh_replication.png)\n"
   ]
  },
  {
   "cell_type": "markdown",
   "metadata": {},
   "source": [
    "daOverRH1 vs norm_LyapunovTime:"
   ]
  },
  {
   "cell_type": "markdown",
   "metadata": {},
   "source": [
    "![title](Partial Dependence Plots/Inconsistent/daoverrh1_norm_lyapunovtime_full.png)\n"
   ]
  },
  {
   "cell_type": "markdown",
   "metadata": {},
   "source": [
    "![title](Partial Dependence Plots/Inconsistent/daoverrh1_norm_lyapunovtime_partial.png)\n"
   ]
  },
  {
   "cell_type": "markdown",
   "metadata": {},
   "source": [
    "![title](Partial Dependence Plots/Inconsistent/daoverrh1_normlyapunovtime_replication.png)\n"
   ]
  },
  {
   "cell_type": "markdown",
   "metadata": {},
   "source": [
    "norm_LyapunovTime vs daOverRH2:"
   ]
  },
  {
   "cell_type": "markdown",
   "metadata": {},
   "source": [
    "![title](Partial Dependence Plots/Inconsistent/daoverrh2_normlyapunov_partial.png)\n"
   ]
  },
  {
   "cell_type": "markdown",
   "metadata": {},
   "source": [
    "![title](Partial Dependence Plots/Inconsistent/daoverrh2_norm_lyapunov_replication.png)\n"
   ]
  },
  {
   "cell_type": "markdown",
   "metadata": {},
   "source": [
    "![title](Partial Dependence Plots/Inconsistent/daoverrh2_norm_lyapunovtime_full.png)\n"
   ]
  },
  {
   "cell_type": "markdown",
   "metadata": {},
   "source": [
    "daOverRH2 vs maxdaOverRH"
   ]
  },
  {
   "cell_type": "markdown",
   "metadata": {},
   "source": [
    "![title](Partial Dependence Plots/Inconsistent/maxdaoverrh_daoverrh2_Full.png)\n"
   ]
  },
  {
   "cell_type": "markdown",
   "metadata": {},
   "source": [
    "![title](Partial Dependence Plots/Inconsistent/maxdaoverrh_daoverrh2_partial.png)\n"
   ]
  },
  {
   "cell_type": "markdown",
   "metadata": {},
   "source": [
    "![title](Partial Dependence Plots/Inconsistent/maxdaoverrh_daoverrh2_replication.png)\n"
   ]
  },
  {
   "cell_type": "markdown",
   "metadata": {},
   "source": [
    "mindaOverRH vs daOverRH1"
   ]
  },
  {
   "cell_type": "markdown",
   "metadata": {},
   "source": [
    "![title](Partial Dependence Plots/Inconsistent/mindaoverrh_daoverrh1_full.png)\n"
   ]
  },
  {
   "cell_type": "markdown",
   "metadata": {},
   "source": [
    "![title](Partial Dependence Plots/Inconsistent/mindaoverrh_daoverrh1_partial.png)\n"
   ]
  },
  {
   "cell_type": "markdown",
   "metadata": {},
   "source": [
    "![title](Partial Dependence Plots/Inconsistent/mindaoverrh_daoverrh1_replication.png)\n"
   ]
  },
  {
   "cell_type": "markdown",
   "metadata": {},
   "source": [
    "norm_max_a2 vs mindaOverRH "
   ]
  },
  {
   "cell_type": "markdown",
   "metadata": {},
   "source": [
    "![title](Partial Dependence Plots/Inconsistent/norm_max_a2_mindaoverrh_Full.png)\n"
   ]
  },
  {
   "cell_type": "markdown",
   "metadata": {},
   "source": [
    "![title](Partial Dependence Plots/Inconsistent/norm_max_a2_mindaoverrh_partial.png)\n"
   ]
  },
  {
   "cell_type": "markdown",
   "metadata": {},
   "source": [
    "![title](Partial Dependence Plots/Inconsistent/norm_max_a2_mindaoverrh_replication.png)\n",
    "\n",
    "\n"
   ]
  },
  {
   "cell_type": "markdown",
   "metadata": {},
   "source": [
    "Its interesting to see that the models all score within less than .1 in terms of their scores yet can have these drastic differences in their conclusions. "
   ]
  },
  {
   "cell_type": "code",
   "execution_count": null,
   "metadata": {
    "collapsed": true
   },
   "outputs": [],
   "source": []
  },
  {
   "cell_type": "code",
   "execution_count": null,
   "metadata": {
    "collapsed": true
   },
   "outputs": [],
   "source": []
  }
 ],
 "metadata": {
  "anaconda-cloud": {},
  "kernelspec": {
   "display_name": "Python [conda env:py27]",
   "language": "python",
   "name": "conda-env-py27-py"
  },
  "language_info": {
   "codemirror_mode": {
    "name": "ipython",
    "version": 2
   },
   "file_extension": ".py",
   "mimetype": "text/x-python",
   "name": "python",
   "nbconvert_exporter": "python",
   "pygments_lexer": "ipython2",
   "version": "2.7.12"
  }
 },
 "nbformat": 4,
 "nbformat_minor": 1
}
