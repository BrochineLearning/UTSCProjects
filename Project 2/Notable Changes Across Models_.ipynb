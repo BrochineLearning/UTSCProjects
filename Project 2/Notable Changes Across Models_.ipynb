{
 "cells": [
  {
   "cell_type": "markdown",
   "metadata": {},
   "source": [
    "This Notebook will be used as documentation for the changes across the models. \n",
    "\n",
    "We'll look at changes across:\n",
    "\n",
    "The Feature Importances, top 10 feature list, parameter space, and pdp plots. "
   ]
  },
  {
   "cell_type": "markdown",
   "metadata": {},
   "source": [
    "See the cell after the next one for commonalities among the sets below. "
   ]
  },
  {
   "cell_type": "code",
   "execution_count": 2,
   "metadata": {
    "collapsed": false
   },
   "outputs": [],
   "source": [
    "# all features in order of importance\n",
    "\n",
    "# values from the paper \n",
    "\n",
    "paper_top10 = [\"mindaOverRH\", \"daOverRH2\", \"maxdaOverRH\",  \n",
    "                \"min_ecross3\", \"norm_LyapunovTime\", \"da_overRH1\",\n",
    "                \"min_ecross2\", \"norm_a3_slope\", \"min_ecross1\", \"norm_a1_slope\"]\n",
    "\n",
    "paper_params = {'base_score':0.5, 'colsample_bylevel':1, 'colsample_bytree':1.0,\n",
    "       'gamma':0, 'learning_rate':0.002, 'max_delta_step':0, 'max_depth':8,\n",
    "       'min_child_weight':1.2, 'missing':None, 'n_estimators':5000, 'nthread':-1,\n",
    "       'objective':'binary:logistic', 'reg_alpha':0, 'reg_lambda':1,\n",
    "       'scale_pos_weight':1, 'seed':27, 'silent':True, 'subsample':0.5}\n",
    "\n",
    "# non-tuned top 10 : \n",
    "non_tuned_top10 = ['mindaOverRH', 'maxdaOverRH', 'min_ecross3',\n",
    " 'min_ecross2', 'norm_LyapunovTime', 'daOverRH2',\n",
    " 'daOverRH1', 'norm_max_a2', 'norm_max_window10_a3', 'min_ecross1']\n",
    "\n",
    "non_tuned_params = {'criterion':'friedman_mse', 'init':None,\n",
    "              'learning_rate':0.1, 'loss':'deviance', 'max_depth':3,\n",
    "              'max_features':None, 'max_leaf_nodes':None,\n",
    "              'min_impurity_split':1e-07, 'min_samples_leaf':1,\n",
    "              'min_samples_split':2,'min_weight_fraction_leaf':0.0,\n",
    "              'n_estimators':5000, 'presort':'auto', 'random_state':None,\n",
    "              'subsample':1.0, 'verbose':0, 'warm_start':False}\n",
    "\n",
    "# partial top 10 features:\n",
    "partial_top10 = ['norm_max_a2', 'mindaOverRH', 'maxdaOverRH',\n",
    " 'norm_std_a2', 'daOverRH2', 'norm_LyapunovTime', \n",
    " 'daOverRH1', 'norm_std_a3', 'min_ecross3', 'norm_max_window10_a3']\n",
    "\n",
    "partial_params = {'criterion':'friedman_mse', 'init':None,\n",
    "              'learning_rate':0.01, 'loss':'deviance', 'max_depth':9,\n",
    "              'max_features':0.5, 'max_leaf_nodes':None,\n",
    "              'min_impurity_split':1e-07, 'min_samples_leaf':1,\n",
    "              'min_samples_split':2, 'min_weight_fraction_leaf':0.0,\n",
    "              'n_estimators':5900, 'presort':'auto', 'random_state':None,\n",
    "              'subsample':0.8, 'verbose':0, 'warm_start':False}\n",
    "\n",
    "\n",
    "# Full parameter space top 10:\n",
    "full_top10 = ['norm_max_a2', 'maxdaOverRH', 'mindaOverRH', \n",
    " 'norm_std_a2', 'daOverRH2', 'norm_LyapunovTime',\n",
    " 'norm_std_a3', 'daOverRH1', 'norm_max_a1', 'max_ecross2']\n",
    "\n",
    "full_params = {'criterion':'friedman_mse', 'init':None,\n",
    "              'learning_rate':0.029, 'loss':'deviance', 'max_depth':9,\n",
    "              'max_features':0.59, 'max_leaf_nodes':13,\n",
    "              'min_impurity_split':1e-07, 'min_samples_leaf':4,\n",
    "              'min_samples_split':20, 'min_weight_fraction_leaf':0.0,\n",
    "              'n_estimators':2300, 'presort':'auto', 'random_state':None,\n",
    "              'subsample':0.9, 'verbose':0, 'warm_start':False}"
   ]
  },
  {
   "cell_type": "code",
   "execution_count": null,
   "metadata": {
    "collapsed": false
   },
   "outputs": [],
   "source": []
  },
  {
   "cell_type": "code",
   "execution_count": 15,
   "metadata": {
    "collapsed": false
   },
   "outputs": [],
   "source": [
    "commonalities = (set(non_tuned_top10) & set(original_top10) & \n",
    "                 set(partial_top10) & set(full_top10) & set(paper_top10))"
   ]
  },
  {
   "cell_type": "code",
   "execution_count": 16,
   "metadata": {
    "collapsed": false
   },
   "outputs": [
    {
     "name": "stdout",
     "output_type": "stream",
     "text": [
      "set(['maxdaOverRH', 'mindaOverRH', 'daOverRH2', 'norm_LyapunovTime'])\n"
     ]
    }
   ],
   "source": [
    "print commonalities"
   ]
  },
  {
   "cell_type": "markdown",
   "metadata": {},
   "source": [
    "without the xgboost list:"
   ]
  },
  {
   "cell_type": "code",
   "execution_count": 17,
   "metadata": {
    "collapsed": false
   },
   "outputs": [
    {
     "name": "stdout",
     "output_type": "stream",
     "text": [
      "set(['mindaOverRH', 'daOverRH1', 'daOverRH2', 'norm_LyapunovTime', 'maxdaOverRH', 'norm_max_a2'])\n"
     ]
    }
   ],
   "source": [
    "commonalities = (set(non_tuned_top10) & set(original_top10) & \n",
    "                 set(partial_top10) & set(full_top10))\n",
    "print commonalities"
   ]
  },
  {
   "cell_type": "markdown",
   "metadata": {},
   "source": [
    "taking order into account: "
   ]
  },
  {
   "cell_type": "code",
   "execution_count": 21,
   "metadata": {
    "collapsed": false
   },
   "outputs": [
    {
     "name": "stdout",
     "output_type": "stream",
     "text": [
      "[]\n"
     ]
    }
   ],
   "source": [
    "commonalities_order = [ i for i, j, k, l, m in zip(non_tuned_top10, original_top10, \n",
    "                 partial_top10, full_top10, paper_top10) if i == j \n",
    "                      == k == l == m ]\n",
    "\n",
    "print commonalities_order"
   ]
  },
  {
   "cell_type": "markdown",
   "metadata": {},
   "source": [
    "again without the paper "
   ]
  },
  {
   "cell_type": "code",
   "execution_count": 25,
   "metadata": {
    "collapsed": false
   },
   "outputs": [
    {
     "name": "stdout",
     "output_type": "stream",
     "text": [
      "[]\n"
     ]
    }
   ],
   "source": [
    "commonalities_order = [ i for i, j, k, l in zip(non_tuned_top10, original_top10, \n",
    "                 partial_top10, full_top10) if i == j \n",
    "                      == k == l ]\n",
    "\n",
    "print commonalities_order"
   ]
  },
  {
   "cell_type": "markdown",
   "metadata": {},
   "source": [
    "The scores across models:\n"
   ]
  },
  {
   "cell_type": "markdown",
   "metadata": {},
   "source": [
    "From the paper: "
   ]
  },
  {
   "cell_type": "markdown",
   "metadata": {},
   "source": [
    "Accuracy : 0.89\n",
    "\n",
    "PR_AUC Score (Test): 0.901043\n",
    "\n",
    "ROC_AUC_Score:  0.949938574939"
   ]
  },
  {
   "cell_type": "markdown",
   "metadata": {},
   "source": [
    "From the replication: "
   ]
  },
  {
   "cell_type": "markdown",
   "metadata": {},
   "source": [
    "Accuracy : 0.882\n",
    "\n",
    "AUC Score (Test): 0.895542\n",
    "\n",
    "ROC_AUC_Score:  0.945628156566 \n"
   ]
  },
  {
   "cell_type": "markdown",
   "metadata": {},
   "source": [
    "Partial parameter space hyperopt: "
   ]
  },
  {
   "cell_type": "markdown",
   "metadata": {},
   "source": [
    "Accuracy : 0.8927\n",
    "\n",
    "AUC Score (Test): 0.898141\n",
    "\n",
    "ROC_AUC_Score:  0.950990052553"
   ]
  },
  {
   "cell_type": "markdown",
   "metadata": {},
   "source": [
    "Full Space hyperopt"
   ]
  },
  {
   "cell_type": "markdown",
   "metadata": {},
   "source": [
    "Accuracy : 0.8933\n",
    "\n",
    "AUC Score (Test): 0.899324\n",
    "\n",
    "ROC_AUC_Score:  0.950904739967"
   ]
  },
  {
   "cell_type": "code",
   "execution_count": null,
   "metadata": {
    "collapsed": false
   },
   "outputs": [],
   "source": []
  },
  {
   "cell_type": "code",
   "execution_count": 1,
   "metadata": {
    "collapsed": true
   },
   "outputs": [],
   "source": [
    "# only the features that are common and different across the models\n",
    "\n",
    "non_tuned_params = {\n",
    "              'learning_rate':0.1, 'max_depth':3,\n",
    "              'max_features':None, 'max_leaf_nodes':None,\n",
    "              'min_impurity_split':1e-07, 'min_samples_leaf':1,\n",
    "              'min_samples_split':2, 'n_estimators':5000, \n",
    "              'subsample':1.0}\n",
    "\n",
    "original_top10_params = {\n",
    "              'learning_rate':0.002,  'max_depth':8,\n",
    "              'max_features':0.5, 'max_leaf_nodes':8, \n",
    "                'min_impurity_split':1e-07, 'min_samples_leaf':1,\n",
    "                'min_samples_split':2, 'n_estimators':5000,\n",
    "                'subsample':0.5}\n",
    "\n",
    "partial_params = {\n",
    "              'learning_rate':0.01,  'max_depth':9,\n",
    "              'max_features':0.5, 'max_leaf_nodes':None,\n",
    "              'min_impurity_split':1e-07, 'min_samples_leaf':1,\n",
    "              'min_samples_split':2, 'n_estimators':5900,\n",
    "            'subsample':0.8}\n",
    "\n",
    "full_params = {\n",
    "              'learning_rate':0.029,  'max_depth':9,\n",
    "              'max_features':0.59, 'max_leaf_nodes':13,\n",
    "              'min_impurity_split':1e-07, 'min_samples_leaf':4,\n",
    "              'min_samples_split':20, 'n_estimators':2300,\n",
    "                'subsample':0.9}\n"
   ]
  },
  {
   "cell_type": "markdown",
   "metadata": {},
   "source": [
    "Below are three of the feature importance\n",
    "\n",
    "XGBoost from paper \n",
    "\n",
    "![title](Feature_Importance_XGBoost.png) \n",
    "    \n",
    "Partial Parameter Space Hyperopt\n",
    "\n",
    "![title](Partial_Parameter_Space_Importances.png)\n",
    "\n",
    "Full Parameter Space Hyperopt\n",
    "\n",
    "![title](Full_Parameter_Space_Importances.png)\n"
   ]
  },
  {
   "cell_type": "markdown",
   "metadata": {},
   "source": [
    "Looking at the figures, there are some significant differences. For example daoverRH2 and maxdaOverRH:"
   ]
  },
  {
   "cell_type": "markdown",
   "metadata": {},
   "source": [
    "\n",
    "![title](daoverrh2_maxdaoverrhp.png) ![title](daoverrh2_maxdaoverrhF.png)"
   ]
  },
  {
   "cell_type": "markdown",
   "metadata": {},
   "source": [
    "mindaOverRH and daOverRH2\n",
    "\n",
    "![title](mindaoverrh_daoverrh2P.png) ![title](mindaoverrh_daoverrh2F.png)"
   ]
  },
  {
   "cell_type": "markdown",
   "metadata": {},
   "source": [
    "minDaOverRH and normMaxA2\n",
    "\n",
    "![title](mindaOverRH_normaxa2P.png) ![title](mindaOverRH_normaxa2F.png)"
   ]
  },
  {
   "cell_type": "markdown",
   "metadata": {},
   "source": [
    "normMaxa2 and daoverrh2\n",
    "\n",
    "![title](normmaxa2_daoverrh2P.png) ![title](normmaxa2_daoverrh2F.png)"
   ]
  },
  {
   "cell_type": "markdown",
   "metadata": {},
   "source": [
    "normmaxa2 and minecross3:\n",
    "\n",
    "\n",
    "![title](normmaxa2_minecross3P.png) ![title](normmaxa2_minecross3F.png)"
   ]
  },
  {
   "cell_type": "markdown",
   "metadata": {},
   "source": [
    "normmaxa2 and normstda3:\n",
    "\n",
    "\n",
    "![title](normmaxa2_normstda3P.png) ![title](normmaxa2_normstda3.png)"
   ]
  },
  {
   "cell_type": "code",
   "execution_count": null,
   "metadata": {
    "collapsed": true
   },
   "outputs": [],
   "source": []
  }
 ],
 "metadata": {
  "anaconda-cloud": {},
  "kernelspec": {
   "display_name": "Python [conda env:py27]",
   "language": "python",
   "name": "conda-env-py27-py"
  },
  "language_info": {
   "codemirror_mode": {
    "name": "ipython",
    "version": 2
   },
   "file_extension": ".py",
   "mimetype": "text/x-python",
   "name": "python",
   "nbconvert_exporter": "python",
   "pygments_lexer": "ipython2",
   "version": "2.7.12"
  }
 },
 "nbformat": 4,
 "nbformat_minor": 1
}
