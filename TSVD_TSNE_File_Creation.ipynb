{
 "cells": [
  {
   "cell_type": "code",
   "execution_count": 4,
   "metadata": {
    "collapsed": true
   },
   "outputs": [],
   "source": [
    "import numpy as np\n",
    "import pandas as pd\n",
    "from sklearn.manifold import TSNE\n",
    "from sklearn.decomposition import TruncatedSVD as TSVD\n",
    "\n",
    "# load phase transformed data \n",
    "data_phase = np.load(\"TESSfield_05h_01d_phasefold.npy\")\n",
    "\n",
    "\n",
    "# load the raw light curve data file\n",
    "# delete the first row (which only contains NaN values)\n",
    "data = np.load(\"TESSfield_05h_01d.npy\")\n",
    "data_raw = np.delete(data, (0), axis=0)\n",
    "\n",
    "\n",
    "# all parameters chosen based on previous unsupervised experiments \n",
    "\n",
    "tsvd50_LC = TSVD(n_components=50, random_state=0)\n",
    "tsvd50_phase = TSVD(n_components=50, random_state=0, algorithm='arpack')\n",
    "\n",
    "tsvd_reduction_LC = tsvd50_LC.fit_transform(data_raw)\n",
    "tsvd_reduction_phase = tsvd50_phase.fit_transform(data_phase)\n",
    "\n",
    "tsne2 = TSNE(n_components=2, init='pca', metric='manhattan', random_state=0, method='exact')\n",
    "tsne3 = TSNE(n_components=3, init='pca', metric='manhattan', random_state=0, method='exact')\n",
    "tsne10 = TSNE(n_components=10, init='pca', metric='manhattan', random_state=0, method='exact')\n",
    "tsne20 = TSNE(n_components=20, init='pca', metric='manhattan', random_state=0, method='exact')\n",
    "\n",
    "\n",
    "twod_LC = tsne2.fit_transform(tsvd_reduction_LC)\n",
    "threed_LC = tsne3.fit_transform(tsvd_reduction_LC)\n",
    "tend_LC = tsne10.fit_transform(tsvd_reduction_LC)\n",
    "twentyd_LC = tsne20.fit_transform(tsvd_reduction_LC)\n",
    "\n",
    "twod_phase = tsne2.fit_transform(tsvd_reduction_phase)\n",
    "threed_phase = tsne3.fit_transform(tsvd_reduction_phase)\n",
    "tend_phase = tsne10.fit_transform(tsvd_reduction_phase)\n",
    "twentyd_phase = tsne20.fit_transform(tsvd_reduction_phase)\n",
    "\n",
    "# create dataframes and output files \n",
    "\n",
    "twod_LC_df = pd.DataFrame(twod_LC)\n",
    "threed_LC_df = pd.DataFrame(threed_LC)\n",
    "tend_LC_df = pd.DataFrame(tend_LC)\n",
    "twentyd_LC_df = pd.DataFrame(twentyd_LC)\n",
    "\n",
    "twod_LC_df.to_csv('twod_LC.csv')\n",
    "threed_LC_df.to_csv('threed_LC.csv')\n",
    "tend_LC_df.to_csv('tend_LC.csv')\n",
    "twentyd_LC_df.to_csv('twentyd_LC.csv')\n",
    "\n",
    "twod_phase_df = pd.DataFrame(twod_phase)\n",
    "threed_phase_df = pd.DataFrame(threed_phase)\n",
    "tend_phase_df = pd.DataFrame(tend_phase)\n",
    "twentyd_phase_df = pd.DataFrame(twentyd_phase)\n",
    "\n",
    "twod_phase_df.to_csv('twod_phase.csv')\n",
    "threed_phase_df.to_csv('threed_phase.csv')\n",
    "tend_phase_df.to_csv('tend_phase.csv')\n",
    "twentyd_phase_df.to_csv('twentyd_phase.csv')\n",
    "\n"
   ]
  },
  {
   "cell_type": "code",
   "execution_count": null,
   "metadata": {},
   "outputs": [],
   "source": [
    ""
   ]
  }
 ],
 "metadata": {
  "kernelspec": {
   "display_name": "Python 2",
   "language": "python",
   "name": "python2"
  },
  "language_info": {
   "codemirror_mode": {
    "name": "ipython",
    "version": 2.0
   },
   "file_extension": ".py",
   "mimetype": "text/x-python",
   "name": "python",
   "nbconvert_exporter": "python",
   "pygments_lexer": "ipython2",
   "version": "2.7.6"
  }
 },
 "nbformat": 4,
 "nbformat_minor": 0
}