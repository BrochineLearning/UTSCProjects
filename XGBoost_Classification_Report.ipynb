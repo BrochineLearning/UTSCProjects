{
 "cells": [
  {
   "cell_type": "code",
   "execution_count": 28,
   "metadata": {
    "collapsed": true
   },
   "outputs": [
    {
     "name": "stdout",
     "output_type": "stream",
     "text": [
      "             precision    recall  f1-score   support\n\n          0       1.00      1.00      1.00     16076\n          1       0.74      0.68      0.71       203\n\navg / total       0.99      0.99      0.99     16279\n\n"
     ]
    }
   ],
   "source": [
    "# import modules\n",
    "import pandas as pd\n",
    "from xgboost.sklearn import XGBClassifier\n",
    "from sklearn.metrics import classification_report\n",
    "from sklearn.cross_validation import cross_val_predict\n",
    "\n",
    "\n",
    "df = pd.read_csv(\"TESS_simulateddata_combinedfeatures.csv\", index_col=0)\n",
    "\n",
    "X = df.drop(['Ids', 'CatalogY', 'ManuleY', 'CombinedY', 'Catalog_Period', 'Depth', 'Catalog_Epoch', 'SNR'], axis=1)\n",
    "target = 'CombinedY'\n",
    "predictors = [x for x in X.columns if x not in [target]]\n",
    "\n",
    "def modelfit(alg, train, predictors, cv_folds=4):\n",
    "    \n",
    "    # cv takes a number of folds and uses stratifiedkfold if y is binary or multi class\n",
    "    # returns the concatenated predictions across all the folds\n",
    "    y_pred = cross_val_predict(alg, df[predictors], df[target], cv=cv_folds)\n",
    "    print classification_report(df[target], y_pred)\n",
    "    \n",
    "# initialize model and call fitting function\n",
    "xgb1 = XGBClassifier(\n",
    "    learning_rate=0.1,\n",
    "    n_estimators=65,\n",
    "    max_depth=5,\n",
    "    min_child_weight=1,\n",
    "    gamma=0,\n",
    "    subsample=0.8,\n",
    "    colsample_bytree=0.8,    \n",
    "    objective='binary:logistic')\n",
    "\n",
    "modelfit(xgb1, df, predictors)"
   ]
  },
  {
   "cell_type": "code",
   "execution_count": null,
   "metadata": {},
   "outputs": [],
   "source": [
    ""
   ]
  }
 ],
 "metadata": {
  "kernelspec": {
   "display_name": "Python 2",
   "language": "python",
   "name": "python2"
  },
  "language_info": {
   "codemirror_mode": {
    "name": "ipython",
    "version": 2.0
   },
   "file_extension": ".py",
   "mimetype": "text/x-python",
   "name": "python",
   "nbconvert_exporter": "python",
   "pygments_lexer": "ipython2",
   "version": "2.7.6"
  }
 },
 "nbformat": 4,
 "nbformat_minor": 0
}